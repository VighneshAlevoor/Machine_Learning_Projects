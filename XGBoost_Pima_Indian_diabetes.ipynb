{
  "nbformat": 4,
  "nbformat_minor": 0,
  "metadata": {
    "colab": {
      "name": "XGBoost: Pima-Indian-diabetes.ipynb",
      "provenance": [],
      "collapsed_sections": [],
      "authorship_tag": "ABX9TyOgPYuoe3Y5hrSqGZPKK+cJ",
      "include_colab_link": true
    },
    "kernelspec": {
      "name": "python3",
      "display_name": "Python 3"
    }
  },
  "cells": [
    {
      "cell_type": "markdown",
      "metadata": {
        "id": "view-in-github",
        "colab_type": "text"
      },
      "source": [
        "<a href=\"https://colab.research.google.com/github/VighneshAlevoor/Machine_Learning_Projects/blob/master/XGBoost_Pima_Indian_diabetes.ipynb\" target=\"_parent\"><img src=\"https://colab.research.google.com/assets/colab-badge.svg\" alt=\"Open In Colab\"/></a>"
      ]
    },
    {
      "cell_type": "code",
      "metadata": {
        "id": "amINexN6ckI7",
        "colab_type": "code",
        "colab": {}
      },
      "source": [
        "import numpy as np\n",
        "import pandas as pd\n",
        "import matplotlib.pyplot as plt\n",
        "import xgboost as xgb\n",
        "import pickle\n",
        "from sklearn import datasets\n",
        "from xgboost import XGBClassifier\n",
        "from sklearn.metrics import accuracy_score\n",
        "import seaborn as sns"
      ],
      "execution_count": 0,
      "outputs": []
    },
    {
      "cell_type": "code",
      "metadata": {
        "id": "3AoBqR3pWHyc",
        "colab_type": "code",
        "colab": {
          "base_uri": "https://localhost:8080/",
          "height": 470
        },
        "outputId": "edfbdbbe-1f5c-469a-f486-9d2d2b82fffc"
      },
      "source": [
        "data=pd.read_csv(\"pima-indians-diabetes.csv\")\n",
        "data"
      ],
      "execution_count": 2,
      "outputs": [
        {
          "output_type": "execute_result",
          "data": {
            "text/html": [
              "<div>\n",
              "<style scoped>\n",
              "    .dataframe tbody tr th:only-of-type {\n",
              "        vertical-align: middle;\n",
              "    }\n",
              "\n",
              "    .dataframe tbody tr th {\n",
              "        vertical-align: top;\n",
              "    }\n",
              "\n",
              "    .dataframe thead th {\n",
              "        text-align: right;\n",
              "    }\n",
              "</style>\n",
              "<table border=\"1\" class=\"dataframe\">\n",
              "  <thead>\n",
              "    <tr style=\"text-align: right;\">\n",
              "      <th></th>\n",
              "      <th>Number of times pregnant</th>\n",
              "      <th>Plasma glucose concentration</th>\n",
              "      <th>Diastolic blood pressure (mm Hg)</th>\n",
              "      <th>Triceps skinfold thickness (mm)</th>\n",
              "      <th>2-Hour serum insulin (mu U/ml)</th>\n",
              "      <th>Body mass index (weight in kg/(height in m)^2)</th>\n",
              "      <th>Diabetes pedigree function</th>\n",
              "      <th>Age</th>\n",
              "      <th>Is Diabetic</th>\n",
              "    </tr>\n",
              "  </thead>\n",
              "  <tbody>\n",
              "    <tr>\n",
              "      <th>0</th>\n",
              "      <td>6</td>\n",
              "      <td>148</td>\n",
              "      <td>72</td>\n",
              "      <td>35</td>\n",
              "      <td>0</td>\n",
              "      <td>33.6</td>\n",
              "      <td>0.627</td>\n",
              "      <td>50</td>\n",
              "      <td>1</td>\n",
              "    </tr>\n",
              "    <tr>\n",
              "      <th>1</th>\n",
              "      <td>1</td>\n",
              "      <td>85</td>\n",
              "      <td>66</td>\n",
              "      <td>29</td>\n",
              "      <td>0</td>\n",
              "      <td>26.6</td>\n",
              "      <td>0.351</td>\n",
              "      <td>31</td>\n",
              "      <td>0</td>\n",
              "    </tr>\n",
              "    <tr>\n",
              "      <th>2</th>\n",
              "      <td>8</td>\n",
              "      <td>183</td>\n",
              "      <td>64</td>\n",
              "      <td>0</td>\n",
              "      <td>0</td>\n",
              "      <td>23.3</td>\n",
              "      <td>0.672</td>\n",
              "      <td>32</td>\n",
              "      <td>1</td>\n",
              "    </tr>\n",
              "    <tr>\n",
              "      <th>3</th>\n",
              "      <td>1</td>\n",
              "      <td>89</td>\n",
              "      <td>66</td>\n",
              "      <td>23</td>\n",
              "      <td>94</td>\n",
              "      <td>28.1</td>\n",
              "      <td>0.167</td>\n",
              "      <td>21</td>\n",
              "      <td>0</td>\n",
              "    </tr>\n",
              "    <tr>\n",
              "      <th>4</th>\n",
              "      <td>0</td>\n",
              "      <td>137</td>\n",
              "      <td>40</td>\n",
              "      <td>35</td>\n",
              "      <td>168</td>\n",
              "      <td>43.1</td>\n",
              "      <td>2.288</td>\n",
              "      <td>33</td>\n",
              "      <td>1</td>\n",
              "    </tr>\n",
              "    <tr>\n",
              "      <th>...</th>\n",
              "      <td>...</td>\n",
              "      <td>...</td>\n",
              "      <td>...</td>\n",
              "      <td>...</td>\n",
              "      <td>...</td>\n",
              "      <td>...</td>\n",
              "      <td>...</td>\n",
              "      <td>...</td>\n",
              "      <td>...</td>\n",
              "    </tr>\n",
              "    <tr>\n",
              "      <th>763</th>\n",
              "      <td>10</td>\n",
              "      <td>101</td>\n",
              "      <td>76</td>\n",
              "      <td>48</td>\n",
              "      <td>180</td>\n",
              "      <td>32.9</td>\n",
              "      <td>0.171</td>\n",
              "      <td>63</td>\n",
              "      <td>0</td>\n",
              "    </tr>\n",
              "    <tr>\n",
              "      <th>764</th>\n",
              "      <td>2</td>\n",
              "      <td>122</td>\n",
              "      <td>70</td>\n",
              "      <td>27</td>\n",
              "      <td>0</td>\n",
              "      <td>36.8</td>\n",
              "      <td>0.340</td>\n",
              "      <td>27</td>\n",
              "      <td>0</td>\n",
              "    </tr>\n",
              "    <tr>\n",
              "      <th>765</th>\n",
              "      <td>5</td>\n",
              "      <td>121</td>\n",
              "      <td>72</td>\n",
              "      <td>23</td>\n",
              "      <td>112</td>\n",
              "      <td>26.2</td>\n",
              "      <td>0.245</td>\n",
              "      <td>30</td>\n",
              "      <td>0</td>\n",
              "    </tr>\n",
              "    <tr>\n",
              "      <th>766</th>\n",
              "      <td>1</td>\n",
              "      <td>126</td>\n",
              "      <td>60</td>\n",
              "      <td>0</td>\n",
              "      <td>0</td>\n",
              "      <td>30.1</td>\n",
              "      <td>0.349</td>\n",
              "      <td>47</td>\n",
              "      <td>1</td>\n",
              "    </tr>\n",
              "    <tr>\n",
              "      <th>767</th>\n",
              "      <td>1</td>\n",
              "      <td>93</td>\n",
              "      <td>70</td>\n",
              "      <td>31</td>\n",
              "      <td>0</td>\n",
              "      <td>30.4</td>\n",
              "      <td>0.315</td>\n",
              "      <td>23</td>\n",
              "      <td>0</td>\n",
              "    </tr>\n",
              "  </tbody>\n",
              "</table>\n",
              "<p>768 rows × 9 columns</p>\n",
              "</div>"
            ],
            "text/plain": [
              "     Number of times pregnant  Plasma glucose concentration  ...  Age  Is Diabetic\n",
              "0                           6                           148  ...   50            1\n",
              "1                           1                            85  ...   31            0\n",
              "2                           8                           183  ...   32            1\n",
              "3                           1                            89  ...   21            0\n",
              "4                           0                           137  ...   33            1\n",
              "..                        ...                           ...  ...  ...          ...\n",
              "763                        10                           101  ...   63            0\n",
              "764                         2                           122  ...   27            0\n",
              "765                         5                           121  ...   30            0\n",
              "766                         1                           126  ...   47            1\n",
              "767                         1                            93  ...   23            0\n",
              "\n",
              "[768 rows x 9 columns]"
            ]
          },
          "metadata": {
            "tags": []
          },
          "execution_count": 2
        }
      ]
    },
    {
      "cell_type": "code",
      "metadata": {
        "id": "g05ORbUrYIzE",
        "colab_type": "code",
        "colab": {}
      },
      "source": [
        "cols=['Plasma glucose concentration',\n",
        "       'Diastolic blood pressure (mm Hg)', 'Triceps skinfold thickness (mm)',\n",
        "       '2-Hour serum insulin (mu U/ml)',\n",
        "       'Body mass index (weight in kg/(height in m)^2)',\n",
        "       'Diabetes pedigree function', 'Age']"
      ],
      "execution_count": 0,
      "outputs": []
    },
    {
      "cell_type": "code",
      "metadata": {
        "id": "bi7I5fgRYMqe",
        "colab_type": "code",
        "colab": {}
      },
      "source": [
        "for col in cols:\n",
        "  data[col]=data[col].replace(0,np.nan)"
      ],
      "execution_count": 0,
      "outputs": []
    },
    {
      "cell_type": "code",
      "metadata": {
        "id": "QshwrBHiYgzV",
        "colab_type": "code",
        "colab": {
          "base_uri": "https://localhost:8080/",
          "height": 187
        },
        "outputId": "d6060011-29a8-4ea9-d95a-2b5def749a66"
      },
      "source": [
        "data.isna().sum()"
      ],
      "execution_count": 5,
      "outputs": [
        {
          "output_type": "execute_result",
          "data": {
            "text/plain": [
              "Number of times pregnant                            0\n",
              "Plasma glucose concentration                        5\n",
              "Diastolic blood pressure (mm Hg)                   35\n",
              "Triceps skinfold thickness (mm)                   227\n",
              "2-Hour serum insulin (mu U/ml)                    374\n",
              "Body mass index (weight in kg/(height in m)^2)     11\n",
              "Diabetes pedigree function                          0\n",
              "Age                                                 0\n",
              "Is Diabetic                                         0\n",
              "dtype: int64"
            ]
          },
          "metadata": {
            "tags": []
          },
          "execution_count": 5
        }
      ]
    },
    {
      "cell_type": "code",
      "metadata": {
        "id": "aqsFXbuDYnnQ",
        "colab_type": "code",
        "colab": {}
      },
      "source": [
        "data['Plasma glucose concentration']=data['Plasma glucose concentration'].fillna(data['Plasma glucose concentration'].mode()[0])\n",
        "data['Diastolic blood pressure (mm Hg)']=data['Diastolic blood pressure (mm Hg)'].fillna(data['Diastolic blood pressure (mm Hg)'].mode()[0])\n",
        "data['Triceps skinfold thickness (mm)']=data['Triceps skinfold thickness (mm)'].fillna(data['Triceps skinfold thickness (mm)'].mean())\n",
        "data['2-Hour serum insulin (mu U/ml)']=data['2-Hour serum insulin (mu U/ml)'].fillna(data['2-Hour serum insulin (mu U/ml)'].mean())\n",
        "data['Body mass index (weight in kg/(height in m)^2)']=data['Body mass index (weight in kg/(height in m)^2)'].fillna(data['Body mass index (weight in kg/(height in m)^2)'].mean())\n"
      ],
      "execution_count": 0,
      "outputs": []
    },
    {
      "cell_type": "code",
      "metadata": {
        "id": "h6cWH_wDaD-4",
        "colab_type": "code",
        "colab": {
          "base_uri": "https://localhost:8080/",
          "height": 187
        },
        "outputId": "00d59916-a93b-4f19-9a74-5e98b08a2266"
      },
      "source": [
        "data.isnull().sum()"
      ],
      "execution_count": 7,
      "outputs": [
        {
          "output_type": "execute_result",
          "data": {
            "text/plain": [
              "Number of times pregnant                          0\n",
              "Plasma glucose concentration                      0\n",
              "Diastolic blood pressure (mm Hg)                  0\n",
              "Triceps skinfold thickness (mm)                   0\n",
              "2-Hour serum insulin (mu U/ml)                    0\n",
              "Body mass index (weight in kg/(height in m)^2)    0\n",
              "Diabetes pedigree function                        0\n",
              "Age                                               0\n",
              "Is Diabetic                                       0\n",
              "dtype: int64"
            ]
          },
          "metadata": {
            "tags": []
          },
          "execution_count": 7
        }
      ]
    },
    {
      "cell_type": "code",
      "metadata": {
        "id": "JUzzzo4RaIHz",
        "colab_type": "code",
        "colab": {
          "base_uri": "https://localhost:8080/",
          "height": 1000
        },
        "outputId": "b32a667a-f21b-4498-be21-38dbbbb7ee55"
      },
      "source": [
        "for col in data.columns:\n",
        "  fig,ax=plt.subplots()\n",
        "  sns.distplot(data[col])"
      ],
      "execution_count": 21,
      "outputs": [
        {
          "output_type": "display_data",
          "data": {
            "image/png": "[encoded data removed]",
            "text/plain": [
              "<Figure size 432x288 with 1 Axes>"
            ]
          },
          "metadata": {
            "tags": []
          }
        },
        {
          "output_type": "display_data",
          "data": {
            "image/png": "[encoded data removed]",
            "text/plain": [
              "<Figure size 432x288 with 1 Axes>"
            ]
          },
          "metadata": {
            "tags": []
          }
        },
        {
          "output_type": "display_data",
          "data": {
            "image/png": "[encoded data removed]",
            "text/plain": [
              "<Figure size 432x288 with 1 Axes>"
            ]
          },
          "metadata": {
            "tags": []
          }
        },
        {
          "output_type": "display_data",
          "data": {
            "image/png": "[encoded data removed]",
            "text/plain": [
              "<Figure size 432x288 with 1 Axes>"
            ]
          },
          "metadata": {
            "tags": []
          }
        },
        {
          "output_type": "display_data",
          "data": {
            "image/png": "[encoded data removed]",
            "text/plain": [
              "<Figure size 432x288 with 1 Axes>"
            ]
          },
          "metadata": {
            "tags": []
          }
        },
        {
          "output_type": "display_data",
          "data": {
            "image/png": "[encoded data removed]",
            "text/plain": [
              "<Figure size 432x288 with 1 Axes>"
            ]
          },
          "metadata": {
            "tags": []
          }
        },
        {
          "output_type": "display_data",
          "data": {
            "image/png": "[encoded data removed]",
            "text/plain": [
              "<Figure size 432x288 with 1 Axes>"
            ]
          },
          "metadata": {
            "tags": []
          }
        },
        {
          "output_type": "display_data",
          "data": {
            "image/png": "[encoded data removed]",
            "text/plain": [
              "<Figure size 432x288 with 1 Axes>"
            ]
          },
          "metadata": {
            "tags": []
          }
        },
        {
          "output_type": "display_data",
          "data": {
            "image/png": "[encoded data removed]",
            "text/plain": [
              "<Figure size 432x288 with 1 Axes>"
            ]
          },
          "metadata": {
            "tags": []
          }
        }
      ]
    },
    {
      "cell_type": "code",
      "metadata": {
        "id": "ALmtHUuKebL3",
        "colab_type": "code",
        "colab": {}
      },
      "source": [
        "x=data.drop(labels='Is Diabetic', axis=1)\n",
        "y=data['Is Diabetic']"
      ],
      "execution_count": 0,
      "outputs": []
    },
    {
      "cell_type": "code",
      "metadata": {
        "id": "eqFxIh6mfKg8",
        "colab_type": "code",
        "colab": {}
      },
      "source": [
        "from sklearn.preprocessing import StandardScaler\n",
        "scaler=StandardScaler()\n",
        "scaled_data=scaler.fit_transform(x)"
      ],
      "execution_count": 0,
      "outputs": []
    },
    {
      "cell_type": "code",
      "metadata": {
        "id": "D2bmAm85ewxD",
        "colab_type": "code",
        "colab": {}
      },
      "source": [
        "from sklearn.model_selection import train_test_split\n",
        "x_train,x_test,y_train,y_test=train_test_split(scaled_data,y,test_size=0.25,random_state=45,)"
      ],
      "execution_count": 0,
      "outputs": []
    },
    {
      "cell_type": "code",
      "metadata": {
        "id": "dDP3RCenggyI",
        "colab_type": "code",
        "colab": {
          "base_uri": "https://localhost:8080/",
          "height": 136
        },
        "outputId": "fea67e0c-16e1-4f84-b8d9-e1821e065710"
      },
      "source": [
        "model=XGBClassifier(objective='binary:logistic')\n",
        "model.fit(x_train,y_train)"
      ],
      "execution_count": 33,
      "outputs": [
        {
          "output_type": "execute_result",
          "data": {
            "text/plain": [
              "XGBClassifier(base_score=0.5, booster='gbtree', colsample_bylevel=1,\n",
              "              colsample_bynode=1, colsample_bytree=1, gamma=0,\n",
              "              learning_rate=0.1, max_delta_step=0, max_depth=3,\n",
              "              min_child_weight=1, missing=None, n_estimators=100, n_jobs=1,\n",
              "              nthread=None, objective='binary:logistic', random_state=0,\n",
              "              reg_alpha=0, reg_lambda=1, scale_pos_weight=1, seed=None,\n",
              "              silent=None, subsample=1, verbosity=1)"
            ]
          },
          "metadata": {
            "tags": []
          },
          "execution_count": 33
        }
      ]
    },
    {
      "cell_type": "code",
      "metadata": {
        "id": "VcxetscxiSMr",
        "colab_type": "code",
        "colab": {
          "base_uri": "https://localhost:8080/",
          "height": 34
        },
        "outputId": "7e168d0b-fa08-40f7-f450-2cd31391b632"
      },
      "source": [
        "y_pred=model.predict(x_train)\n",
        "score=accuracy_score(y_train,y_pred)\n",
        "score"
      ],
      "execution_count": 38,
      "outputs": [
        {
          "output_type": "execute_result",
          "data": {
            "text/plain": [
              "0.8975694444444444"
            ]
          },
          "metadata": {
            "tags": []
          },
          "execution_count": 38
        }
      ]
    },
    {
      "cell_type": "code",
      "metadata": {
        "id": "6eygPQHQg9D1",
        "colab_type": "code",
        "colab": {
          "base_uri": "https://localhost:8080/",
          "height": 34
        },
        "outputId": "3cf6c957-7d62-46db-802f-f40ac3bb1e49"
      },
      "source": [
        "y_pred=model.predict(x_test)\n",
        "score=accuracy_score(y_test,y_pred)\n",
        "score"
      ],
      "execution_count": 37,
      "outputs": [
        {
          "output_type": "execute_result",
          "data": {
            "text/plain": [
              "0.75"
            ]
          },
          "metadata": {
            "tags": []
          },
          "execution_count": 37
        }
      ]
    },
    {
      "cell_type": "code",
      "metadata": {
        "id": "fVoWl5VsiZCu",
        "colab_type": "code",
        "colab": {}
      },
      "source": [
        "#GridSearch:\n",
        "param_grid={\n",
        "    ' learning_rate':[1,0.5,0.1,0.01,0.001],\n",
        "    'max_depth': [3,5,10,20],\n",
        "    'n_estimators':[10,50,100,200]\n",
        "}"
      ],
      "execution_count": 0,
      "outputs": []
    },
    {
      "cell_type": "code",
      "metadata": {
        "id": "qukCq0tHiyd5",
        "colab_type": "code",
        "colab": {}
      },
      "source": [
        "from sklearn.model_selection import GridSearchCV\n",
        "grid=GridSearchCV(XGBClassifier(objective='binary:logistic'),param_grid, verbose=3)"
      ],
      "execution_count": 0,
      "outputs": []
    },
    {
      "cell_type": "code",
      "metadata": {
        "id": "5I-80jPpjhmZ",
        "colab_type": "code",
        "colab": {
          "base_uri": "https://localhost:8080/",
          "height": 1000
        },
        "outputId": "a26f1382-b1c1-4778-86ba-f1ca4b213937"
      },
      "source": [
        "grid.fit(x_train,y_train)"
      ],
      "execution_count": 44,
      "outputs": [
        {
          "output_type": "stream",
          "text": [
            "Fitting 5 folds for each of 80 candidates, totalling 400 fits\n",
            "[CV]  learning_rate=1, max_depth=3, n_estimators=10 ..................\n",
            "[CV]   learning_rate=1, max_depth=3, n_estimators=10, score=0.741, total=   0.0s\n",
            "[CV]  learning_rate=1, max_depth=3, n_estimators=10 ..................\n",
            "[CV]   learning_rate=1, max_depth=3, n_estimators=10, score=0.757, total=   0.0s\n",
            "[CV]  learning_rate=1, max_depth=3, n_estimators=10 ..................\n",
            "[CV]   learning_rate=1, max_depth=3, n_estimators=10, score=0.730, total=   0.0s\n",
            "[CV]  learning_rate=1, max_depth=3, n_estimators=10 ..................\n",
            "[CV]   learning_rate=1, max_depth=3, n_estimators=10, score=0.765, total=   0.0s\n",
            "[CV]  learning_rate=1, max_depth=3, n_estimators=10 ..................\n",
            "[CV]   learning_rate=1, max_depth=3, n_estimators=10, score=0.757, total=   0.0s\n",
            "[CV]  learning_rate=1, max_depth=3, n_estimators=50 ..................\n",
            "[CV]   learning_rate=1, max_depth=3, n_estimators=50, score=0.750, total=   0.0s\n",
            "[CV]  learning_rate=1, max_depth=3, n_estimators=50 ..................\n",
            "[CV]   learning_rate=1, max_depth=3, n_estimators=50, score=0.783, total=   0.0s\n",
            "[CV]  learning_rate=1, max_depth=3, n_estimators=50 ..................\n",
            "[CV]   learning_rate=1, max_depth=3, n_estimators=50, score=0.739, total=   0.0s\n",
            "[CV]  learning_rate=1, max_depth=3, n_estimators=50 ..................\n",
            "[CV]   learning_rate=1, max_depth=3, n_estimators=50, score=0.757, total=   0.0s\n",
            "[CV]  learning_rate=1, max_depth=3, n_estimators=50 ..................\n",
            "[CV]   learning_rate=1, max_depth=3, n_estimators=50, score=0.817, total=   0.0s\n",
            "[CV]  learning_rate=1, max_depth=3, n_estimators=100 .................\n"
          ],
          "name": "stdout"
        },
        {
          "output_type": "stream",
          "text": [
            "[Parallel(n_jobs=1)]: Using backend SequentialBackend with 1 concurrent workers.\n",
            "[Parallel(n_jobs=1)]: Done   1 out of   1 | elapsed:    0.0s remaining:    0.0s\n",
            "[Parallel(n_jobs=1)]: Done   2 out of   2 | elapsed:    0.0s remaining:    0.0s\n"
          ],
          "name": "stderr"
        },
        {
          "output_type": "stream",
          "text": [
            "[CV]   learning_rate=1, max_depth=3, n_estimators=100, score=0.707, total=   0.0s\n",
            "[CV]  learning_rate=1, max_depth=3, n_estimators=100 .................\n",
            "[CV]   learning_rate=1, max_depth=3, n_estimators=100, score=0.809, total=   0.0s\n",
            "[CV]  learning_rate=1, max_depth=3, n_estimators=100 .................\n",
            "[CV]   learning_rate=1, max_depth=3, n_estimators=100, score=0.722, total=   0.0s\n",
            "[CV]  learning_rate=1, max_depth=3, n_estimators=100 .................\n",
            "[CV]   learning_rate=1, max_depth=3, n_estimators=100, score=0.783, total=   0.0s\n",
            "[CV]  learning_rate=1, max_depth=3, n_estimators=100 .................\n",
            "[CV]   learning_rate=1, max_depth=3, n_estimators=100, score=0.809, total=   0.0s\n",
            "[CV]  learning_rate=1, max_depth=3, n_estimators=200 .................\n",
            "[CV]   learning_rate=1, max_depth=3, n_estimators=200, score=0.716, total=   0.1s\n",
            "[CV]  learning_rate=1, max_depth=3, n_estimators=200 .................\n",
            "[CV]   learning_rate=1, max_depth=3, n_estimators=200, score=0.800, total=   0.1s\n",
            "[CV]  learning_rate=1, max_depth=3, n_estimators=200 .................\n",
            "[CV]   learning_rate=1, max_depth=3, n_estimators=200, score=0.713, total=   0.1s\n",
            "[CV]  learning_rate=1, max_depth=3, n_estimators=200 .................\n",
            "[CV]   learning_rate=1, max_depth=3, n_estimators=200, score=0.774, total=   0.1s\n",
            "[CV]  learning_rate=1, max_depth=3, n_estimators=200 .................\n",
            "[CV]   learning_rate=1, max_depth=3, n_estimators=200, score=0.791, total=   0.1s\n",
            "[CV]  learning_rate=1, max_depth=5, n_estimators=10 ..................\n",
            "[CV]   learning_rate=1, max_depth=5, n_estimators=10, score=0.759, total=   0.0s\n",
            "[CV]  learning_rate=1, max_depth=5, n_estimators=10 ..................\n",
            "[CV]   learning_rate=1, max_depth=5, n_estimators=10, score=0.765, total=   0.0s\n",
            "[CV]  learning_rate=1, max_depth=5, n_estimators=10 ..................\n",
            "[CV]   learning_rate=1, max_depth=5, n_estimators=10, score=0.748, total=   0.0s\n",
            "[CV]  learning_rate=1, max_depth=5, n_estimators=10 ..................\n",
            "[CV]   learning_rate=1, max_depth=5, n_estimators=10, score=0.774, total=   0.0s\n",
            "[CV]  learning_rate=1, max_depth=5, n_estimators=10 ..................\n",
            "[CV]   learning_rate=1, max_depth=5, n_estimators=10, score=0.791, total=   0.0s\n",
            "[CV]  learning_rate=1, max_depth=5, n_estimators=50 ..................\n",
            "[CV]   learning_rate=1, max_depth=5, n_estimators=50, score=0.733, total=   0.0s\n",
            "[CV]  learning_rate=1, max_depth=5, n_estimators=50 ..................\n",
            "[CV]   learning_rate=1, max_depth=5, n_estimators=50, score=0.783, total=   0.0s\n",
            "[CV]  learning_rate=1, max_depth=5, n_estimators=50 ..................\n",
            "[CV]   learning_rate=1, max_depth=5, n_estimators=50, score=0.791, total=   0.0s\n",
            "[CV]  learning_rate=1, max_depth=5, n_estimators=50 ..................\n",
            "[CV]   learning_rate=1, max_depth=5, n_estimators=50, score=0.774, total=   0.0s\n",
            "[CV]  learning_rate=1, max_depth=5, n_estimators=50 ..................\n",
            "[CV]   learning_rate=1, max_depth=5, n_estimators=50, score=0.817, total=   0.0s\n",
            "[CV]  learning_rate=1, max_depth=5, n_estimators=100 .................\n",
            "[CV]   learning_rate=1, max_depth=5, n_estimators=100, score=0.716, total=   0.1s\n",
            "[CV]  learning_rate=1, max_depth=5, n_estimators=100 .................\n",
            "[CV]   learning_rate=1, max_depth=5, n_estimators=100, score=0.783, total=   0.1s\n",
            "[CV]  learning_rate=1, max_depth=5, n_estimators=100 .................\n",
            "[CV]   learning_rate=1, max_depth=5, n_estimators=100, score=0.765, total=   0.1s\n",
            "[CV]  learning_rate=1, max_depth=5, n_estimators=100 .................\n",
            "[CV]   learning_rate=1, max_depth=5, n_estimators=100, score=0.783, total=   0.1s\n",
            "[CV]  learning_rate=1, max_depth=5, n_estimators=100 .................\n",
            "[CV]   learning_rate=1, max_depth=5, n_estimators=100, score=0.817, total=   0.1s\n",
            "[CV]  learning_rate=1, max_depth=5, n_estimators=200 .................\n",
            "[CV]   learning_rate=1, max_depth=5, n_estimators=200, score=0.716, total=   0.1s\n",
            "[CV]  learning_rate=1, max_depth=5, n_estimators=200 .................\n",
            "[CV]   learning_rate=1, max_depth=5, n_estimators=200, score=0.774, total=   0.1s\n",
            "[CV]  learning_rate=1, max_depth=5, n_estimators=200 .................\n",
            "[CV]   learning_rate=1, max_depth=5, n_estimators=200, score=0.757, total=   0.1s\n",
            "[CV]  learning_rate=1, max_depth=5, n_estimators=200 .................\n",
            "[CV]   learning_rate=1, max_depth=5, n_estimators=200, score=0.774, total=   0.1s\n",
            "[CV]  learning_rate=1, max_depth=5, n_estimators=200 .................\n",
            "[CV]   learning_rate=1, max_depth=5, n_estimators=200, score=0.817, total=   0.1s\n",
            "[CV]  learning_rate=1, max_depth=10, n_estimators=10 .................\n",
            "[CV]   learning_rate=1, max_depth=10, n_estimators=10, score=0.690, total=   0.0s\n",
            "[CV]  learning_rate=1, max_depth=10, n_estimators=10 .................\n",
            "[CV]   learning_rate=1, max_depth=10, n_estimators=10, score=0.757, total=   0.0s\n",
            "[CV]  learning_rate=1, max_depth=10, n_estimators=10 .................\n",
            "[CV]   learning_rate=1, max_depth=10, n_estimators=10, score=0.757, total=   0.0s\n",
            "[CV]  learning_rate=1, max_depth=10, n_estimators=10 .................\n",
            "[CV]   learning_rate=1, max_depth=10, n_estimators=10, score=0.783, total=   0.0s\n",
            "[CV]  learning_rate=1, max_depth=10, n_estimators=10 .................\n",
            "[CV]   learning_rate=1, max_depth=10, n_estimators=10, score=0.791, total=   0.0s\n",
            "[CV]  learning_rate=1, max_depth=10, n_estimators=50 .................\n",
            "[CV]   learning_rate=1, max_depth=10, n_estimators=50, score=0.716, total=   0.0s\n",
            "[CV]  learning_rate=1, max_depth=10, n_estimators=50 .................\n",
            "[CV]   learning_rate=1, max_depth=10, n_estimators=50, score=0.774, total=   0.1s\n",
            "[CV]  learning_rate=1, max_depth=10, n_estimators=50 .................\n",
            "[CV]   learning_rate=1, max_depth=10, n_estimators=50, score=0.765, total=   0.1s\n",
            "[CV]  learning_rate=1, max_depth=10, n_estimators=50 .................\n",
            "[CV]   learning_rate=1, max_depth=10, n_estimators=50, score=0.791, total=   0.1s\n",
            "[CV]  learning_rate=1, max_depth=10, n_estimators=50 .................\n",
            "[CV]   learning_rate=1, max_depth=10, n_estimators=50, score=0.826, total=   0.1s\n",
            "[CV]  learning_rate=1, max_depth=10, n_estimators=100 ................\n",
            "[CV]   learning_rate=1, max_depth=10, n_estimators=100, score=0.716, total=   0.1s\n",
            "[CV]  learning_rate=1, max_depth=10, n_estimators=100 ................\n",
            "[CV]   learning_rate=1, max_depth=10, n_estimators=100, score=0.765, total=   0.1s\n",
            "[CV]  learning_rate=1, max_depth=10, n_estimators=100 ................\n",
            "[CV]   learning_rate=1, max_depth=10, n_estimators=100, score=0.748, total=   0.1s\n",
            "[CV]  learning_rate=1, max_depth=10, n_estimators=100 ................\n",
            "[CV]   learning_rate=1, max_depth=10, n_estimators=100, score=0.757, total=   0.1s\n",
            "[CV]  learning_rate=1, max_depth=10, n_estimators=100 ................\n",
            "[CV]   learning_rate=1, max_depth=10, n_estimators=100, score=0.817, total=   0.1s\n",
            "[CV]  learning_rate=1, max_depth=10, n_estimators=200 ................\n",
            "[CV]   learning_rate=1, max_depth=10, n_estimators=200, score=0.724, total=   0.2s\n",
            "[CV]  learning_rate=1, max_depth=10, n_estimators=200 ................\n",
            "[CV]   learning_rate=1, max_depth=10, n_estimators=200, score=0.774, total=   0.1s\n",
            "[CV]  learning_rate=1, max_depth=10, n_estimators=200 ................\n",
            "[CV]   learning_rate=1, max_depth=10, n_estimators=200, score=0.757, total=   0.2s\n",
            "[CV]  learning_rate=1, max_depth=10, n_estimators=200 ................\n",
            "[CV]   learning_rate=1, max_depth=10, n_estimators=200, score=0.765, total=   0.1s\n",
            "[CV]  learning_rate=1, max_depth=10, n_estimators=200 ................\n",
            "[CV]   learning_rate=1, max_depth=10, n_estimators=200, score=0.809, total=   0.2s\n",
            "[CV]  learning_rate=1, max_depth=20, n_estimators=10 .................\n",
            "[CV]   learning_rate=1, max_depth=20, n_estimators=10, score=0.724, total=   0.0s\n",
            "[CV]  learning_rate=1, max_depth=20, n_estimators=10 .................\n",
            "[CV]   learning_rate=1, max_depth=20, n_estimators=10, score=0.757, total=   0.0s\n",
            "[CV]  learning_rate=1, max_depth=20, n_estimators=10 .................\n",
            "[CV]   learning_rate=1, max_depth=20, n_estimators=10, score=0.774, total=   0.0s\n",
            "[CV]  learning_rate=1, max_depth=20, n_estimators=10 .................\n",
            "[CV]   learning_rate=1, max_depth=20, n_estimators=10, score=0.783, total=   0.0s\n",
            "[CV]  learning_rate=1, max_depth=20, n_estimators=10 .................\n",
            "[CV]   learning_rate=1, max_depth=20, n_estimators=10, score=0.791, total=   0.0s\n",
            "[CV]  learning_rate=1, max_depth=20, n_estimators=50 .................\n",
            "[CV]   learning_rate=1, max_depth=20, n_estimators=50, score=0.698, total=   0.1s\n",
            "[CV]  learning_rate=1, max_depth=20, n_estimators=50 .................\n",
            "[CV]   learning_rate=1, max_depth=20, n_estimators=50, score=0.791, total=   0.1s\n",
            "[CV]  learning_rate=1, max_depth=20, n_estimators=50 .................\n",
            "[CV]   learning_rate=1, max_depth=20, n_estimators=50, score=0.774, total=   0.1s\n",
            "[CV]  learning_rate=1, max_depth=20, n_estimators=50 .................\n",
            "[CV]   learning_rate=1, max_depth=20, n_estimators=50, score=0.791, total=   0.1s\n",
            "[CV]  learning_rate=1, max_depth=20, n_estimators=50 .................\n",
            "[CV]   learning_rate=1, max_depth=20, n_estimators=50, score=0.800, total=   0.1s\n",
            "[CV]  learning_rate=1, max_depth=20, n_estimators=100 ................\n",
            "[CV]   learning_rate=1, max_depth=20, n_estimators=100, score=0.690, total=   0.1s\n",
            "[CV]  learning_rate=1, max_depth=20, n_estimators=100 ................\n",
            "[CV]   learning_rate=1, max_depth=20, n_estimators=100, score=0.791, total=   0.1s\n",
            "[CV]  learning_rate=1, max_depth=20, n_estimators=100 ................\n",
            "[CV]   learning_rate=1, max_depth=20, n_estimators=100, score=0.774, total=   0.1s\n",
            "[CV]  learning_rate=1, max_depth=20, n_estimators=100 ................\n",
            "[CV]   learning_rate=1, max_depth=20, n_estimators=100, score=0.765, total=   0.1s\n",
            "[CV]  learning_rate=1, max_depth=20, n_estimators=100 ................\n",
            "[CV]   learning_rate=1, max_depth=20, n_estimators=100, score=0.817, total=   0.1s\n",
            "[CV]  learning_rate=1, max_depth=20, n_estimators=200 ................\n",
            "[CV]   learning_rate=1, max_depth=20, n_estimators=200, score=0.716, total=   0.2s\n",
            "[CV]  learning_rate=1, max_depth=20, n_estimators=200 ................\n",
            "[CV]   learning_rate=1, max_depth=20, n_estimators=200, score=0.783, total=   0.2s\n",
            "[CV]  learning_rate=1, max_depth=20, n_estimators=200 ................\n",
            "[CV]   learning_rate=1, max_depth=20, n_estimators=200, score=0.730, total=   0.2s\n",
            "[CV]  learning_rate=1, max_depth=20, n_estimators=200 ................\n",
            "[CV]   learning_rate=1, max_depth=20, n_estimators=200, score=0.765, total=   0.2s\n",
            "[CV]  learning_rate=1, max_depth=20, n_estimators=200 ................\n",
            "[CV]   learning_rate=1, max_depth=20, n_estimators=200, score=0.791, total=   0.2s\n",
            "[CV]  learning_rate=0.5, max_depth=3, n_estimators=10 ................\n",
            "[CV]   learning_rate=0.5, max_depth=3, n_estimators=10, score=0.741, total=   0.0s\n",
            "[CV]  learning_rate=0.5, max_depth=3, n_estimators=10 ................\n",
            "[CV]   learning_rate=0.5, max_depth=3, n_estimators=10, score=0.757, total=   0.0s\n",
            "[CV]  learning_rate=0.5, max_depth=3, n_estimators=10 ................\n",
            "[CV]   learning_rate=0.5, max_depth=3, n_estimators=10, score=0.730, total=   0.0s\n",
            "[CV]  learning_rate=0.5, max_depth=3, n_estimators=10 ................\n",
            "[CV]   learning_rate=0.5, max_depth=3, n_estimators=10, score=0.765, total=   0.0s\n",
            "[CV]  learning_rate=0.5, max_depth=3, n_estimators=10 ................\n",
            "[CV]   learning_rate=0.5, max_depth=3, n_estimators=10, score=0.757, total=   0.0s\n",
            "[CV]  learning_rate=0.5, max_depth=3, n_estimators=50 ................\n",
            "[CV]   learning_rate=0.5, max_depth=3, n_estimators=50, score=0.750, total=   0.0s\n",
            "[CV]  learning_rate=0.5, max_depth=3, n_estimators=50 ................\n",
            "[CV]   learning_rate=0.5, max_depth=3, n_estimators=50, score=0.783, total=   0.0s\n",
            "[CV]  learning_rate=0.5, max_depth=3, n_estimators=50 ................\n",
            "[CV]   learning_rate=0.5, max_depth=3, n_estimators=50, score=0.739, total=   0.0s\n",
            "[CV]  learning_rate=0.5, max_depth=3, n_estimators=50 ................\n",
            "[CV]   learning_rate=0.5, max_depth=3, n_estimators=50, score=0.757, total=   0.0s\n",
            "[CV]  learning_rate=0.5, max_depth=3, n_estimators=50 ................\n",
            "[CV]   learning_rate=0.5, max_depth=3, n_estimators=50, score=0.817, total=   0.0s\n",
            "[CV]  learning_rate=0.5, max_depth=3, n_estimators=100 ...............\n",
            "[CV]   learning_rate=0.5, max_depth=3, n_estimators=100, score=0.707, total=   0.0s\n",
            "[CV]  learning_rate=0.5, max_depth=3, n_estimators=100 ...............\n",
            "[CV]   learning_rate=0.5, max_depth=3, n_estimators=100, score=0.809, total=   0.0s\n",
            "[CV]  learning_rate=0.5, max_depth=3, n_estimators=100 ...............\n",
            "[CV]   learning_rate=0.5, max_depth=3, n_estimators=100, score=0.722, total=   0.0s\n",
            "[CV]  learning_rate=0.5, max_depth=3, n_estimators=100 ...............\n",
            "[CV]   learning_rate=0.5, max_depth=3, n_estimators=100, score=0.783, total=   0.0s\n",
            "[CV]  learning_rate=0.5, max_depth=3, n_estimators=100 ...............\n",
            "[CV]   learning_rate=0.5, max_depth=3, n_estimators=100, score=0.809, total=   0.0s\n",
            "[CV]  learning_rate=0.5, max_depth=3, n_estimators=200 ...............\n",
            "[CV]   learning_rate=0.5, max_depth=3, n_estimators=200, score=0.716, total=   0.1s\n",
            "[CV]  learning_rate=0.5, max_depth=3, n_estimators=200 ...............\n",
            "[CV]   learning_rate=0.5, max_depth=3, n_estimators=200, score=0.800, total=   0.1s\n",
            "[CV]  learning_rate=0.5, max_depth=3, n_estimators=200 ...............\n",
            "[CV]   learning_rate=0.5, max_depth=3, n_estimators=200, score=0.713, total=   0.1s\n",
            "[CV]  learning_rate=0.5, max_depth=3, n_estimators=200 ...............\n",
            "[CV]   learning_rate=0.5, max_depth=3, n_estimators=200, score=0.774, total=   0.1s\n",
            "[CV]  learning_rate=0.5, max_depth=3, n_estimators=200 ...............\n",
            "[CV]   learning_rate=0.5, max_depth=3, n_estimators=200, score=0.791, total=   0.1s\n",
            "[CV]  learning_rate=0.5, max_depth=5, n_estimators=10 ................\n",
            "[CV]   learning_rate=0.5, max_depth=5, n_estimators=10, score=0.759, total=   0.0s\n",
            "[CV]  learning_rate=0.5, max_depth=5, n_estimators=10 ................\n",
            "[CV]   learning_rate=0.5, max_depth=5, n_estimators=10, score=0.765, total=   0.0s\n",
            "[CV]  learning_rate=0.5, max_depth=5, n_estimators=10 ................\n",
            "[CV]   learning_rate=0.5, max_depth=5, n_estimators=10, score=0.748, total=   0.0s\n",
            "[CV]  learning_rate=0.5, max_depth=5, n_estimators=10 ................\n",
            "[CV]   learning_rate=0.5, max_depth=5, n_estimators=10, score=0.774, total=   0.0s\n",
            "[CV]  learning_rate=0.5, max_depth=5, n_estimators=10 ................\n",
            "[CV]   learning_rate=0.5, max_depth=5, n_estimators=10, score=0.791, total=   0.0s\n",
            "[CV]  learning_rate=0.5, max_depth=5, n_estimators=50 ................\n",
            "[CV]   learning_rate=0.5, max_depth=5, n_estimators=50, score=0.733, total=   0.0s\n",
            "[CV]  learning_rate=0.5, max_depth=5, n_estimators=50 ................\n",
            "[CV]   learning_rate=0.5, max_depth=5, n_estimators=50, score=0.783, total=   0.0s\n",
            "[CV]  learning_rate=0.5, max_depth=5, n_estimators=50 ................\n",
            "[CV]   learning_rate=0.5, max_depth=5, n_estimators=50, score=0.791, total=   0.0s\n",
            "[CV]  learning_rate=0.5, max_depth=5, n_estimators=50 ................\n",
            "[CV]   learning_rate=0.5, max_depth=5, n_estimators=50, score=0.774, total=   0.0s\n",
            "[CV]  learning_rate=0.5, max_depth=5, n_estimators=50 ................\n",
            "[CV]   learning_rate=0.5, max_depth=5, n_estimators=50, score=0.817, total=   0.0s\n",
            "[CV]  learning_rate=0.5, max_depth=5, n_estimators=100 ...............\n",
            "[CV]   learning_rate=0.5, max_depth=5, n_estimators=100, score=0.716, total=   0.1s\n",
            "[CV]  learning_rate=0.5, max_depth=5, n_estimators=100 ...............\n",
            "[CV]   learning_rate=0.5, max_depth=5, n_estimators=100, score=0.783, total=   0.1s\n",
            "[CV]  learning_rate=0.5, max_depth=5, n_estimators=100 ...............\n",
            "[CV]   learning_rate=0.5, max_depth=5, n_estimators=100, score=0.765, total=   0.1s\n",
            "[CV]  learning_rate=0.5, max_depth=5, n_estimators=100 ...............\n",
            "[CV]   learning_rate=0.5, max_depth=5, n_estimators=100, score=0.783, total=   0.1s\n",
            "[CV]  learning_rate=0.5, max_depth=5, n_estimators=100 ...............\n",
            "[CV]   learning_rate=0.5, max_depth=5, n_estimators=100, score=0.817, total=   0.1s\n",
            "[CV]  learning_rate=0.5, max_depth=5, n_estimators=200 ...............\n",
            "[CV]   learning_rate=0.5, max_depth=5, n_estimators=200, score=0.716, total=   0.1s\n",
            "[CV]  learning_rate=0.5, max_depth=5, n_estimators=200 ...............\n",
            "[CV]   learning_rate=0.5, max_depth=5, n_estimators=200, score=0.774, total=   0.1s\n",
            "[CV]  learning_rate=0.5, max_depth=5, n_estimators=200 ...............\n",
            "[CV]   learning_rate=0.5, max_depth=5, n_estimators=200, score=0.757, total=   0.1s\n",
            "[CV]  learning_rate=0.5, max_depth=5, n_estimators=200 ...............\n",
            "[CV]   learning_rate=0.5, max_depth=5, n_estimators=200, score=0.774, total=   0.1s\n",
            "[CV]  learning_rate=0.5, max_depth=5, n_estimators=200 ...............\n",
            "[CV]   learning_rate=0.5, max_depth=5, n_estimators=200, score=0.817, total=   0.1s\n",
            "[CV]  learning_rate=0.5, max_depth=10, n_estimators=10 ...............\n",
            "[CV]   learning_rate=0.5, max_depth=10, n_estimators=10, score=0.690, total=   0.0s\n",
            "[CV]  learning_rate=0.5, max_depth=10, n_estimators=10 ...............\n",
            "[CV]   learning_rate=0.5, max_depth=10, n_estimators=10, score=0.757, total=   0.0s\n",
            "[CV]  learning_rate=0.5, max_depth=10, n_estimators=10 ...............\n",
            "[CV]   learning_rate=0.5, max_depth=10, n_estimators=10, score=0.757, total=   0.0s\n",
            "[CV]  learning_rate=0.5, max_depth=10, n_estimators=10 ...............\n",
            "[CV]   learning_rate=0.5, max_depth=10, n_estimators=10, score=0.783, total=   0.0s\n",
            "[CV]  learning_rate=0.5, max_depth=10, n_estimators=10 ...............\n",
            "[CV]   learning_rate=0.5, max_depth=10, n_estimators=10, score=0.791, total=   0.0s\n",
            "[CV]  learning_rate=0.5, max_depth=10, n_estimators=50 ...............\n",
            "[CV]   learning_rate=0.5, max_depth=10, n_estimators=50, score=0.716, total=   0.1s\n",
            "[CV]  learning_rate=0.5, max_depth=10, n_estimators=50 ...............\n",
            "[CV]   learning_rate=0.5, max_depth=10, n_estimators=50, score=0.774, total=   0.1s\n",
            "[CV]  learning_rate=0.5, max_depth=10, n_estimators=50 ...............\n",
            "[CV]   learning_rate=0.5, max_depth=10, n_estimators=50, score=0.765, total=   0.1s\n",
            "[CV]  learning_rate=0.5, max_depth=10, n_estimators=50 ...............\n",
            "[CV]   learning_rate=0.5, max_depth=10, n_estimators=50, score=0.791, total=   0.1s\n",
            "[CV]  learning_rate=0.5, max_depth=10, n_estimators=50 ...............\n",
            "[CV]   learning_rate=0.5, max_depth=10, n_estimators=50, score=0.826, total=   0.1s\n",
            "[CV]  learning_rate=0.5, max_depth=10, n_estimators=100 ..............\n",
            "[CV]   learning_rate=0.5, max_depth=10, n_estimators=100, score=0.716, total=   0.1s\n",
            "[CV]  learning_rate=0.5, max_depth=10, n_estimators=100 ..............\n",
            "[CV]   learning_rate=0.5, max_depth=10, n_estimators=100, score=0.765, total=   0.1s\n",
            "[CV]  learning_rate=0.5, max_depth=10, n_estimators=100 ..............\n",
            "[CV]   learning_rate=0.5, max_depth=10, n_estimators=100, score=0.748, total=   0.1s\n",
            "[CV]  learning_rate=0.5, max_depth=10, n_estimators=100 ..............\n",
            "[CV]   learning_rate=0.5, max_depth=10, n_estimators=100, score=0.757, total=   0.1s\n",
            "[CV]  learning_rate=0.5, max_depth=10, n_estimators=100 ..............\n",
            "[CV]   learning_rate=0.5, max_depth=10, n_estimators=100, score=0.817, total=   0.1s\n",
            "[CV]  learning_rate=0.5, max_depth=10, n_estimators=200 ..............\n",
            "[CV]   learning_rate=0.5, max_depth=10, n_estimators=200, score=0.724, total=   0.2s\n",
            "[CV]  learning_rate=0.5, max_depth=10, n_estimators=200 ..............\n",
            "[CV]   learning_rate=0.5, max_depth=10, n_estimators=200, score=0.774, total=   0.2s\n",
            "[CV]  learning_rate=0.5, max_depth=10, n_estimators=200 ..............\n",
            "[CV]   learning_rate=0.5, max_depth=10, n_estimators=200, score=0.757, total=   0.1s\n",
            "[CV]  learning_rate=0.5, max_depth=10, n_estimators=200 ..............\n",
            "[CV]   learning_rate=0.5, max_depth=10, n_estimators=200, score=0.765, total=   0.1s\n",
            "[CV]  learning_rate=0.5, max_depth=10, n_estimators=200 ..............\n",
            "[CV]   learning_rate=0.5, max_depth=10, n_estimators=200, score=0.809, total=   0.2s\n",
            "[CV]  learning_rate=0.5, max_depth=20, n_estimators=10 ...............\n",
            "[CV]   learning_rate=0.5, max_depth=20, n_estimators=10, score=0.724, total=   0.0s\n",
            "[CV]  learning_rate=0.5, max_depth=20, n_estimators=10 ...............\n",
            "[CV]   learning_rate=0.5, max_depth=20, n_estimators=10, score=0.757, total=   0.0s\n",
            "[CV]  learning_rate=0.5, max_depth=20, n_estimators=10 ...............\n",
            "[CV]   learning_rate=0.5, max_depth=20, n_estimators=10, score=0.774, total=   0.0s\n",
            "[CV]  learning_rate=0.5, max_depth=20, n_estimators=10 ...............\n",
            "[CV]   learning_rate=0.5, max_depth=20, n_estimators=10, score=0.783, total=   0.0s\n",
            "[CV]  learning_rate=0.5, max_depth=20, n_estimators=10 ...............\n",
            "[CV]   learning_rate=0.5, max_depth=20, n_estimators=10, score=0.791, total=   0.0s\n",
            "[CV]  learning_rate=0.5, max_depth=20, n_estimators=50 ...............\n",
            "[CV]   learning_rate=0.5, max_depth=20, n_estimators=50, score=0.698, total=   0.1s\n",
            "[CV]  learning_rate=0.5, max_depth=20, n_estimators=50 ...............\n",
            "[CV]   learning_rate=0.5, max_depth=20, n_estimators=50, score=0.791, total=   0.1s\n",
            "[CV]  learning_rate=0.5, max_depth=20, n_estimators=50 ...............\n",
            "[CV]   learning_rate=0.5, max_depth=20, n_estimators=50, score=0.774, total=   0.1s\n",
            "[CV]  learning_rate=0.5, max_depth=20, n_estimators=50 ...............\n",
            "[CV]   learning_rate=0.5, max_depth=20, n_estimators=50, score=0.791, total=   0.1s\n",
            "[CV]  learning_rate=0.5, max_depth=20, n_estimators=50 ...............\n",
            "[CV]   learning_rate=0.5, max_depth=20, n_estimators=50, score=0.800, total=   0.1s\n",
            "[CV]  learning_rate=0.5, max_depth=20, n_estimators=100 ..............\n",
            "[CV]   learning_rate=0.5, max_depth=20, n_estimators=100, score=0.690, total=   0.1s\n",
            "[CV]  learning_rate=0.5, max_depth=20, n_estimators=100 ..............\n",
            "[CV]   learning_rate=0.5, max_depth=20, n_estimators=100, score=0.791, total=   0.1s\n",
            "[CV]  learning_rate=0.5, max_depth=20, n_estimators=100 ..............\n",
            "[CV]   learning_rate=0.5, max_depth=20, n_estimators=100, score=0.774, total=   0.1s\n",
            "[CV]  learning_rate=0.5, max_depth=20, n_estimators=100 ..............\n",
            "[CV]   learning_rate=0.5, max_depth=20, n_estimators=100, score=0.765, total=   0.1s\n",
            "[CV]  learning_rate=0.5, max_depth=20, n_estimators=100 ..............\n",
            "[CV]   learning_rate=0.5, max_depth=20, n_estimators=100, score=0.817, total=   0.1s\n",
            "[CV]  learning_rate=0.5, max_depth=20, n_estimators=200 ..............\n",
            "[CV]   learning_rate=0.5, max_depth=20, n_estimators=200, score=0.716, total=   0.2s\n",
            "[CV]  learning_rate=0.5, max_depth=20, n_estimators=200 ..............\n",
            "[CV]   learning_rate=0.5, max_depth=20, n_estimators=200, score=0.783, total=   0.2s\n",
            "[CV]  learning_rate=0.5, max_depth=20, n_estimators=200 ..............\n",
            "[CV]   learning_rate=0.5, max_depth=20, n_estimators=200, score=0.730, total=   0.2s\n",
            "[CV]  learning_rate=0.5, max_depth=20, n_estimators=200 ..............\n",
            "[CV]   learning_rate=0.5, max_depth=20, n_estimators=200, score=0.765, total=   0.2s\n",
            "[CV]  learning_rate=0.5, max_depth=20, n_estimators=200 ..............\n",
            "[CV]   learning_rate=0.5, max_depth=20, n_estimators=200, score=0.791, total=   0.2s\n",
            "[CV]  learning_rate=0.1, max_depth=3, n_estimators=10 ................\n",
            "[CV]   learning_rate=0.1, max_depth=3, n_estimators=10, score=0.741, total=   0.0s\n",
            "[CV]  learning_rate=0.1, max_depth=3, n_estimators=10 ................\n",
            "[CV]   learning_rate=0.1, max_depth=3, n_estimators=10, score=0.757, total=   0.0s\n",
            "[CV]  learning_rate=0.1, max_depth=3, n_estimators=10 ................\n",
            "[CV]   learning_rate=0.1, max_depth=3, n_estimators=10, score=0.730, total=   0.0s\n",
            "[CV]  learning_rate=0.1, max_depth=3, n_estimators=10 ................\n",
            "[CV]   learning_rate=0.1, max_depth=3, n_estimators=10, score=0.765, total=   0.0s\n",
            "[CV]  learning_rate=0.1, max_depth=3, n_estimators=10 ................\n",
            "[CV]   learning_rate=0.1, max_depth=3, n_estimators=10, score=0.757, total=   0.0s\n",
            "[CV]  learning_rate=0.1, max_depth=3, n_estimators=50 ................\n",
            "[CV]   learning_rate=0.1, max_depth=3, n_estimators=50, score=0.750, total=   0.0s\n",
            "[CV]  learning_rate=0.1, max_depth=3, n_estimators=50 ................\n",
            "[CV]   learning_rate=0.1, max_depth=3, n_estimators=50, score=0.783, total=   0.0s\n",
            "[CV]  learning_rate=0.1, max_depth=3, n_estimators=50 ................\n",
            "[CV]   learning_rate=0.1, max_depth=3, n_estimators=50, score=0.739, total=   0.0s\n",
            "[CV]  learning_rate=0.1, max_depth=3, n_estimators=50 ................\n",
            "[CV]   learning_rate=0.1, max_depth=3, n_estimators=50, score=0.757, total=   0.0s\n",
            "[CV]  learning_rate=0.1, max_depth=3, n_estimators=50 ................\n",
            "[CV]   learning_rate=0.1, max_depth=3, n_estimators=50, score=0.817, total=   0.0s\n",
            "[CV]  learning_rate=0.1, max_depth=3, n_estimators=100 ...............\n",
            "[CV]   learning_rate=0.1, max_depth=3, n_estimators=100, score=0.707, total=   0.0s\n",
            "[CV]  learning_rate=0.1, max_depth=3, n_estimators=100 ...............\n",
            "[CV]   learning_rate=0.1, max_depth=3, n_estimators=100, score=0.809, total=   0.0s\n",
            "[CV]  learning_rate=0.1, max_depth=3, n_estimators=100 ...............\n",
            "[CV]   learning_rate=0.1, max_depth=3, n_estimators=100, score=0.722, total=   0.0s\n",
            "[CV]  learning_rate=0.1, max_depth=3, n_estimators=100 ...............\n",
            "[CV]   learning_rate=0.1, max_depth=3, n_estimators=100, score=0.783, total=   0.0s\n",
            "[CV]  learning_rate=0.1, max_depth=3, n_estimators=100 ...............\n",
            "[CV]   learning_rate=0.1, max_depth=3, n_estimators=100, score=0.809, total=   0.0s\n",
            "[CV]  learning_rate=0.1, max_depth=3, n_estimators=200 ...............\n",
            "[CV]   learning_rate=0.1, max_depth=3, n_estimators=200, score=0.716, total=   0.1s\n",
            "[CV]  learning_rate=0.1, max_depth=3, n_estimators=200 ...............\n",
            "[CV]   learning_rate=0.1, max_depth=3, n_estimators=200, score=0.800, total=   0.1s\n",
            "[CV]  learning_rate=0.1, max_depth=3, n_estimators=200 ...............\n",
            "[CV]   learning_rate=0.1, max_depth=3, n_estimators=200, score=0.713, total=   0.1s\n",
            "[CV]  learning_rate=0.1, max_depth=3, n_estimators=200 ...............\n",
            "[CV]   learning_rate=0.1, max_depth=3, n_estimators=200, score=0.774, total=   0.1s\n",
            "[CV]  learning_rate=0.1, max_depth=3, n_estimators=200 ...............\n",
            "[CV]   learning_rate=0.1, max_depth=3, n_estimators=200, score=0.791, total=   0.1s\n",
            "[CV]  learning_rate=0.1, max_depth=5, n_estimators=10 ................\n",
            "[CV]   learning_rate=0.1, max_depth=5, n_estimators=10, score=0.759, total=   0.0s\n",
            "[CV]  learning_rate=0.1, max_depth=5, n_estimators=10 ................\n",
            "[CV]   learning_rate=0.1, max_depth=5, n_estimators=10, score=0.765, total=   0.0s\n",
            "[CV]  learning_rate=0.1, max_depth=5, n_estimators=10 ................\n",
            "[CV]   learning_rate=0.1, max_depth=5, n_estimators=10, score=0.748, total=   0.0s\n",
            "[CV]  learning_rate=0.1, max_depth=5, n_estimators=10 ................\n",
            "[CV]   learning_rate=0.1, max_depth=5, n_estimators=10, score=0.774, total=   0.0s\n",
            "[CV]  learning_rate=0.1, max_depth=5, n_estimators=10 ................\n",
            "[CV]   learning_rate=0.1, max_depth=5, n_estimators=10, score=0.791, total=   0.0s\n",
            "[CV]  learning_rate=0.1, max_depth=5, n_estimators=50 ................\n",
            "[CV]   learning_rate=0.1, max_depth=5, n_estimators=50, score=0.733, total=   0.0s\n",
            "[CV]  learning_rate=0.1, max_depth=5, n_estimators=50 ................\n",
            "[CV]   learning_rate=0.1, max_depth=5, n_estimators=50, score=0.783, total=   0.0s\n",
            "[CV]  learning_rate=0.1, max_depth=5, n_estimators=50 ................\n",
            "[CV]   learning_rate=0.1, max_depth=5, n_estimators=50, score=0.791, total=   0.0s\n",
            "[CV]  learning_rate=0.1, max_depth=5, n_estimators=50 ................\n",
            "[CV]   learning_rate=0.1, max_depth=5, n_estimators=50, score=0.774, total=   0.0s\n",
            "[CV]  learning_rate=0.1, max_depth=5, n_estimators=50 ................\n",
            "[CV]   learning_rate=0.1, max_depth=5, n_estimators=50, score=0.817, total=   0.0s\n",
            "[CV]  learning_rate=0.1, max_depth=5, n_estimators=100 ...............\n",
            "[CV]   learning_rate=0.1, max_depth=5, n_estimators=100, score=0.716, total=   0.1s\n",
            "[CV]  learning_rate=0.1, max_depth=5, n_estimators=100 ...............\n",
            "[CV]   learning_rate=0.1, max_depth=5, n_estimators=100, score=0.783, total=   0.1s\n",
            "[CV]  learning_rate=0.1, max_depth=5, n_estimators=100 ...............\n",
            "[CV]   learning_rate=0.1, max_depth=5, n_estimators=100, score=0.765, total=   0.1s\n",
            "[CV]  learning_rate=0.1, max_depth=5, n_estimators=100 ...............\n",
            "[CV]   learning_rate=0.1, max_depth=5, n_estimators=100, score=0.783, total=   0.1s\n",
            "[CV]  learning_rate=0.1, max_depth=5, n_estimators=100 ...............\n",
            "[CV]   learning_rate=0.1, max_depth=5, n_estimators=100, score=0.817, total=   0.1s\n",
            "[CV]  learning_rate=0.1, max_depth=5, n_estimators=200 ...............\n",
            "[CV]   learning_rate=0.1, max_depth=5, n_estimators=200, score=0.716, total=   0.1s\n",
            "[CV]  learning_rate=0.1, max_depth=5, n_estimators=200 ...............\n",
            "[CV]   learning_rate=0.1, max_depth=5, n_estimators=200, score=0.774, total=   0.1s\n",
            "[CV]  learning_rate=0.1, max_depth=5, n_estimators=200 ...............\n",
            "[CV]   learning_rate=0.1, max_depth=5, n_estimators=200, score=0.757, total=   0.1s\n",
            "[CV]  learning_rate=0.1, max_depth=5, n_estimators=200 ...............\n",
            "[CV]   learning_rate=0.1, max_depth=5, n_estimators=200, score=0.774, total=   0.1s\n",
            "[CV]  learning_rate=0.1, max_depth=5, n_estimators=200 ...............\n",
            "[CV]   learning_rate=0.1, max_depth=5, n_estimators=200, score=0.817, total=   0.1s\n",
            "[CV]  learning_rate=0.1, max_depth=10, n_estimators=10 ...............\n",
            "[CV]   learning_rate=0.1, max_depth=10, n_estimators=10, score=0.690, total=   0.0s\n",
            "[CV]  learning_rate=0.1, max_depth=10, n_estimators=10 ...............\n",
            "[CV]   learning_rate=0.1, max_depth=10, n_estimators=10, score=0.757, total=   0.0s\n",
            "[CV]  learning_rate=0.1, max_depth=10, n_estimators=10 ...............\n",
            "[CV]   learning_rate=0.1, max_depth=10, n_estimators=10, score=0.757, total=   0.0s\n",
            "[CV]  learning_rate=0.1, max_depth=10, n_estimators=10 ...............\n",
            "[CV]   learning_rate=0.1, max_depth=10, n_estimators=10, score=0.783, total=   0.0s\n",
            "[CV]  learning_rate=0.1, max_depth=10, n_estimators=10 ...............\n",
            "[CV]   learning_rate=0.1, max_depth=10, n_estimators=10, score=0.791, total=   0.0s\n",
            "[CV]  learning_rate=0.1, max_depth=10, n_estimators=50 ...............\n",
            "[CV]   learning_rate=0.1, max_depth=10, n_estimators=50, score=0.716, total=   0.1s\n",
            "[CV]  learning_rate=0.1, max_depth=10, n_estimators=50 ...............\n",
            "[CV]   learning_rate=0.1, max_depth=10, n_estimators=50, score=0.774, total=   0.1s\n",
            "[CV]  learning_rate=0.1, max_depth=10, n_estimators=50 ...............\n",
            "[CV]   learning_rate=0.1, max_depth=10, n_estimators=50, score=0.765, total=   0.1s\n",
            "[CV]  learning_rate=0.1, max_depth=10, n_estimators=50 ...............\n",
            "[CV]   learning_rate=0.1, max_depth=10, n_estimators=50, score=0.791, total=   0.1s\n",
            "[CV]  learning_rate=0.1, max_depth=10, n_estimators=50 ...............\n",
            "[CV]   learning_rate=0.1, max_depth=10, n_estimators=50, score=0.826, total=   0.1s\n",
            "[CV]  learning_rate=0.1, max_depth=10, n_estimators=100 ..............\n",
            "[CV]   learning_rate=0.1, max_depth=10, n_estimators=100, score=0.716, total=   0.1s\n",
            "[CV]  learning_rate=0.1, max_depth=10, n_estimators=100 ..............\n",
            "[CV]   learning_rate=0.1, max_depth=10, n_estimators=100, score=0.765, total=   0.1s\n",
            "[CV]  learning_rate=0.1, max_depth=10, n_estimators=100 ..............\n",
            "[CV]   learning_rate=0.1, max_depth=10, n_estimators=100, score=0.748, total=   0.1s\n",
            "[CV]  learning_rate=0.1, max_depth=10, n_estimators=100 ..............\n",
            "[CV]   learning_rate=0.1, max_depth=10, n_estimators=100, score=0.757, total=   0.1s\n",
            "[CV]  learning_rate=0.1, max_depth=10, n_estimators=100 ..............\n",
            "[CV]   learning_rate=0.1, max_depth=10, n_estimators=100, score=0.817, total=   0.1s\n",
            "[CV]  learning_rate=0.1, max_depth=10, n_estimators=200 ..............\n",
            "[CV]   learning_rate=0.1, max_depth=10, n_estimators=200, score=0.724, total=   0.1s\n",
            "[CV]  learning_rate=0.1, max_depth=10, n_estimators=200 ..............\n",
            "[CV]   learning_rate=0.1, max_depth=10, n_estimators=200, score=0.774, total=   0.2s\n",
            "[CV]  learning_rate=0.1, max_depth=10, n_estimators=200 ..............\n",
            "[CV]   learning_rate=0.1, max_depth=10, n_estimators=200, score=0.757, total=   0.1s\n",
            "[CV]  learning_rate=0.1, max_depth=10, n_estimators=200 ..............\n",
            "[CV]   learning_rate=0.1, max_depth=10, n_estimators=200, score=0.765, total=   0.1s\n",
            "[CV]  learning_rate=0.1, max_depth=10, n_estimators=200 ..............\n",
            "[CV]   learning_rate=0.1, max_depth=10, n_estimators=200, score=0.809, total=   0.2s\n",
            "[CV]  learning_rate=0.1, max_depth=20, n_estimators=10 ...............\n",
            "[CV]   learning_rate=0.1, max_depth=20, n_estimators=10, score=0.724, total=   0.0s\n",
            "[CV]  learning_rate=0.1, max_depth=20, n_estimators=10 ...............\n",
            "[CV]   learning_rate=0.1, max_depth=20, n_estimators=10, score=0.757, total=   0.0s\n",
            "[CV]  learning_rate=0.1, max_depth=20, n_estimators=10 ...............\n",
            "[CV]   learning_rate=0.1, max_depth=20, n_estimators=10, score=0.774, total=   0.0s\n",
            "[CV]  learning_rate=0.1, max_depth=20, n_estimators=10 ...............\n",
            "[CV]   learning_rate=0.1, max_depth=20, n_estimators=10, score=0.783, total=   0.0s\n",
            "[CV]  learning_rate=0.1, max_depth=20, n_estimators=10 ...............\n",
            "[CV]   learning_rate=0.1, max_depth=20, n_estimators=10, score=0.791, total=   0.0s\n",
            "[CV]  learning_rate=0.1, max_depth=20, n_estimators=50 ...............\n",
            "[CV]   learning_rate=0.1, max_depth=20, n_estimators=50, score=0.698, total=   0.1s\n",
            "[CV]  learning_rate=0.1, max_depth=20, n_estimators=50 ...............\n",
            "[CV]   learning_rate=0.1, max_depth=20, n_estimators=50, score=0.791, total=   0.1s\n",
            "[CV]  learning_rate=0.1, max_depth=20, n_estimators=50 ...............\n",
            "[CV]   learning_rate=0.1, max_depth=20, n_estimators=50, score=0.774, total=   0.1s\n",
            "[CV]  learning_rate=0.1, max_depth=20, n_estimators=50 ...............\n",
            "[CV]   learning_rate=0.1, max_depth=20, n_estimators=50, score=0.791, total=   0.1s\n",
            "[CV]  learning_rate=0.1, max_depth=20, n_estimators=50 ...............\n",
            "[CV]   learning_rate=0.1, max_depth=20, n_estimators=50, score=0.800, total=   0.1s\n",
            "[CV]  learning_rate=0.1, max_depth=20, n_estimators=100 ..............\n",
            "[CV]   learning_rate=0.1, max_depth=20, n_estimators=100, score=0.690, total=   0.1s\n",
            "[CV]  learning_rate=0.1, max_depth=20, n_estimators=100 ..............\n",
            "[CV]   learning_rate=0.1, max_depth=20, n_estimators=100, score=0.791, total=   0.1s\n",
            "[CV]  learning_rate=0.1, max_depth=20, n_estimators=100 ..............\n",
            "[CV]   learning_rate=0.1, max_depth=20, n_estimators=100, score=0.774, total=   0.1s\n",
            "[CV]  learning_rate=0.1, max_depth=20, n_estimators=100 ..............\n",
            "[CV]   learning_rate=0.1, max_depth=20, n_estimators=100, score=0.765, total=   0.1s\n",
            "[CV]  learning_rate=0.1, max_depth=20, n_estimators=100 ..............\n",
            "[CV]   learning_rate=0.1, max_depth=20, n_estimators=100, score=0.817, total=   0.1s\n",
            "[CV]  learning_rate=0.1, max_depth=20, n_estimators=200 ..............\n",
            "[CV]   learning_rate=0.1, max_depth=20, n_estimators=200, score=0.716, total=   0.2s\n",
            "[CV]  learning_rate=0.1, max_depth=20, n_estimators=200 ..............\n",
            "[CV]   learning_rate=0.1, max_depth=20, n_estimators=200, score=0.783, total=   0.2s\n",
            "[CV]  learning_rate=0.1, max_depth=20, n_estimators=200 ..............\n",
            "[CV]   learning_rate=0.1, max_depth=20, n_estimators=200, score=0.730, total=   0.2s\n",
            "[CV]  learning_rate=0.1, max_depth=20, n_estimators=200 ..............\n",
            "[CV]   learning_rate=0.1, max_depth=20, n_estimators=200, score=0.765, total=   0.2s\n",
            "[CV]  learning_rate=0.1, max_depth=20, n_estimators=200 ..............\n",
            "[CV]   learning_rate=0.1, max_depth=20, n_estimators=200, score=0.791, total=   0.2s\n",
            "[CV]  learning_rate=0.01, max_depth=3, n_estimators=10 ...............\n",
            "[CV]   learning_rate=0.01, max_depth=3, n_estimators=10, score=0.741, total=   0.0s\n",
            "[CV]  learning_rate=0.01, max_depth=3, n_estimators=10 ...............\n",
            "[CV]   learning_rate=0.01, max_depth=3, n_estimators=10, score=0.757, total=   0.0s\n",
            "[CV]  learning_rate=0.01, max_depth=3, n_estimators=10 ...............\n",
            "[CV]   learning_rate=0.01, max_depth=3, n_estimators=10, score=0.730, total=   0.0s\n",
            "[CV]  learning_rate=0.01, max_depth=3, n_estimators=10 ...............\n",
            "[CV]   learning_rate=0.01, max_depth=3, n_estimators=10, score=0.765, total=   0.0s\n",
            "[CV]  learning_rate=0.01, max_depth=3, n_estimators=10 ...............\n",
            "[CV]   learning_rate=0.01, max_depth=3, n_estimators=10, score=0.757, total=   0.0s\n",
            "[CV]  learning_rate=0.01, max_depth=3, n_estimators=50 ...............\n",
            "[CV]   learning_rate=0.01, max_depth=3, n_estimators=50, score=0.750, total=   0.0s\n",
            "[CV]  learning_rate=0.01, max_depth=3, n_estimators=50 ...............\n",
            "[CV]   learning_rate=0.01, max_depth=3, n_estimators=50, score=0.783, total=   0.0s\n",
            "[CV]  learning_rate=0.01, max_depth=3, n_estimators=50 ...............\n",
            "[CV]   learning_rate=0.01, max_depth=3, n_estimators=50, score=0.739, total=   0.0s\n",
            "[CV]  learning_rate=0.01, max_depth=3, n_estimators=50 ...............\n",
            "[CV]   learning_rate=0.01, max_depth=3, n_estimators=50, score=0.757, total=   0.0s\n",
            "[CV]  learning_rate=0.01, max_depth=3, n_estimators=50 ...............\n",
            "[CV]   learning_rate=0.01, max_depth=3, n_estimators=50, score=0.817, total=   0.0s\n",
            "[CV]  learning_rate=0.01, max_depth=3, n_estimators=100 ..............\n",
            "[CV]   learning_rate=0.01, max_depth=3, n_estimators=100, score=0.707, total=   0.0s\n",
            "[CV]  learning_rate=0.01, max_depth=3, n_estimators=100 ..............\n",
            "[CV]   learning_rate=0.01, max_depth=3, n_estimators=100, score=0.809, total=   0.0s\n",
            "[CV]  learning_rate=0.01, max_depth=3, n_estimators=100 ..............\n",
            "[CV]   learning_rate=0.01, max_depth=3, n_estimators=100, score=0.722, total=   0.0s\n",
            "[CV]  learning_rate=0.01, max_depth=3, n_estimators=100 ..............\n",
            "[CV]   learning_rate=0.01, max_depth=3, n_estimators=100, score=0.783, total=   0.0s\n",
            "[CV]  learning_rate=0.01, max_depth=3, n_estimators=100 ..............\n",
            "[CV]   learning_rate=0.01, max_depth=3, n_estimators=100, score=0.809, total=   0.0s\n",
            "[CV]  learning_rate=0.01, max_depth=3, n_estimators=200 ..............\n",
            "[CV]   learning_rate=0.01, max_depth=3, n_estimators=200, score=0.716, total=   0.1s\n",
            "[CV]  learning_rate=0.01, max_depth=3, n_estimators=200 ..............\n",
            "[CV]   learning_rate=0.01, max_depth=3, n_estimators=200, score=0.800, total=   0.1s\n",
            "[CV]  learning_rate=0.01, max_depth=3, n_estimators=200 ..............\n",
            "[CV]   learning_rate=0.01, max_depth=3, n_estimators=200, score=0.713, total=   0.1s\n",
            "[CV]  learning_rate=0.01, max_depth=3, n_estimators=200 ..............\n",
            "[CV]   learning_rate=0.01, max_depth=3, n_estimators=200, score=0.774, total=   0.1s\n",
            "[CV]  learning_rate=0.01, max_depth=3, n_estimators=200 ..............\n",
            "[CV]   learning_rate=0.01, max_depth=3, n_estimators=200, score=0.791, total=   0.1s\n",
            "[CV]  learning_rate=0.01, max_depth=5, n_estimators=10 ...............\n",
            "[CV]   learning_rate=0.01, max_depth=5, n_estimators=10, score=0.759, total=   0.0s\n",
            "[CV]  learning_rate=0.01, max_depth=5, n_estimators=10 ...............\n",
            "[CV]   learning_rate=0.01, max_depth=5, n_estimators=10, score=0.765, total=   0.0s\n",
            "[CV]  learning_rate=0.01, max_depth=5, n_estimators=10 ...............\n",
            "[CV]   learning_rate=0.01, max_depth=5, n_estimators=10, score=0.748, total=   0.0s\n",
            "[CV]  learning_rate=0.01, max_depth=5, n_estimators=10 ...............\n",
            "[CV]   learning_rate=0.01, max_depth=5, n_estimators=10, score=0.774, total=   0.0s\n",
            "[CV]  learning_rate=0.01, max_depth=5, n_estimators=10 ...............\n",
            "[CV]   learning_rate=0.01, max_depth=5, n_estimators=10, score=0.791, total=   0.0s\n",
            "[CV]  learning_rate=0.01, max_depth=5, n_estimators=50 ...............\n",
            "[CV]   learning_rate=0.01, max_depth=5, n_estimators=50, score=0.733, total=   0.0s\n",
            "[CV]  learning_rate=0.01, max_depth=5, n_estimators=50 ...............\n",
            "[CV]   learning_rate=0.01, max_depth=5, n_estimators=50, score=0.783, total=   0.0s\n",
            "[CV]  learning_rate=0.01, max_depth=5, n_estimators=50 ...............\n",
            "[CV]   learning_rate=0.01, max_depth=5, n_estimators=50, score=0.791, total=   0.0s\n",
            "[CV]  learning_rate=0.01, max_depth=5, n_estimators=50 ...............\n",
            "[CV]   learning_rate=0.01, max_depth=5, n_estimators=50, score=0.774, total=   0.0s\n",
            "[CV]  learning_rate=0.01, max_depth=5, n_estimators=50 ...............\n",
            "[CV]   learning_rate=0.01, max_depth=5, n_estimators=50, score=0.817, total=   0.0s\n",
            "[CV]  learning_rate=0.01, max_depth=5, n_estimators=100 ..............\n",
            "[CV]   learning_rate=0.01, max_depth=5, n_estimators=100, score=0.716, total=   0.1s\n",
            "[CV]  learning_rate=0.01, max_depth=5, n_estimators=100 ..............\n",
            "[CV]   learning_rate=0.01, max_depth=5, n_estimators=100, score=0.783, total=   0.1s\n",
            "[CV]  learning_rate=0.01, max_depth=5, n_estimators=100 ..............\n",
            "[CV]   learning_rate=0.01, max_depth=5, n_estimators=100, score=0.765, total=   0.1s\n",
            "[CV]  learning_rate=0.01, max_depth=5, n_estimators=100 ..............\n",
            "[CV]   learning_rate=0.01, max_depth=5, n_estimators=100, score=0.783, total=   0.1s\n",
            "[CV]  learning_rate=0.01, max_depth=5, n_estimators=100 ..............\n",
            "[CV]   learning_rate=0.01, max_depth=5, n_estimators=100, score=0.817, total=   0.1s\n",
            "[CV]  learning_rate=0.01, max_depth=5, n_estimators=200 ..............\n",
            "[CV]   learning_rate=0.01, max_depth=5, n_estimators=200, score=0.716, total=   0.1s\n",
            "[CV]  learning_rate=0.01, max_depth=5, n_estimators=200 ..............\n",
            "[CV]   learning_rate=0.01, max_depth=5, n_estimators=200, score=0.774, total=   0.1s\n",
            "[CV]  learning_rate=0.01, max_depth=5, n_estimators=200 ..............\n",
            "[CV]   learning_rate=0.01, max_depth=5, n_estimators=200, score=0.757, total=   0.1s\n",
            "[CV]  learning_rate=0.01, max_depth=5, n_estimators=200 ..............\n",
            "[CV]   learning_rate=0.01, max_depth=5, n_estimators=200, score=0.774, total=   0.1s\n",
            "[CV]  learning_rate=0.01, max_depth=5, n_estimators=200 ..............\n",
            "[CV]   learning_rate=0.01, max_depth=5, n_estimators=200, score=0.817, total=   0.1s\n",
            "[CV]  learning_rate=0.01, max_depth=10, n_estimators=10 ..............\n",
            "[CV]   learning_rate=0.01, max_depth=10, n_estimators=10, score=0.690, total=   0.0s\n",
            "[CV]  learning_rate=0.01, max_depth=10, n_estimators=10 ..............\n",
            "[CV]   learning_rate=0.01, max_depth=10, n_estimators=10, score=0.757, total=   0.0s\n",
            "[CV]  learning_rate=0.01, max_depth=10, n_estimators=10 ..............\n",
            "[CV]   learning_rate=0.01, max_depth=10, n_estimators=10, score=0.757, total=   0.0s\n",
            "[CV]  learning_rate=0.01, max_depth=10, n_estimators=10 ..............\n",
            "[CV]   learning_rate=0.01, max_depth=10, n_estimators=10, score=0.783, total=   0.0s\n",
            "[CV]  learning_rate=0.01, max_depth=10, n_estimators=10 ..............\n",
            "[CV]   learning_rate=0.01, max_depth=10, n_estimators=10, score=0.791, total=   0.0s\n",
            "[CV]  learning_rate=0.01, max_depth=10, n_estimators=50 ..............\n",
            "[CV]   learning_rate=0.01, max_depth=10, n_estimators=50, score=0.716, total=   0.0s\n",
            "[CV]  learning_rate=0.01, max_depth=10, n_estimators=50 ..............\n",
            "[CV]   learning_rate=0.01, max_depth=10, n_estimators=50, score=0.774, total=   0.1s\n",
            "[CV]  learning_rate=0.01, max_depth=10, n_estimators=50 ..............\n",
            "[CV]   learning_rate=0.01, max_depth=10, n_estimators=50, score=0.765, total=   0.1s\n",
            "[CV]  learning_rate=0.01, max_depth=10, n_estimators=50 ..............\n",
            "[CV]   learning_rate=0.01, max_depth=10, n_estimators=50, score=0.791, total=   0.1s\n",
            "[CV]  learning_rate=0.01, max_depth=10, n_estimators=50 ..............\n",
            "[CV]   learning_rate=0.01, max_depth=10, n_estimators=50, score=0.826, total=   0.1s\n",
            "[CV]  learning_rate=0.01, max_depth=10, n_estimators=100 .............\n",
            "[CV]   learning_rate=0.01, max_depth=10, n_estimators=100, score=0.716, total=   0.1s\n",
            "[CV]  learning_rate=0.01, max_depth=10, n_estimators=100 .............\n",
            "[CV]   learning_rate=0.01, max_depth=10, n_estimators=100, score=0.765, total=   0.1s\n",
            "[CV]  learning_rate=0.01, max_depth=10, n_estimators=100 .............\n",
            "[CV]   learning_rate=0.01, max_depth=10, n_estimators=100, score=0.748, total=   0.1s\n",
            "[CV]  learning_rate=0.01, max_depth=10, n_estimators=100 .............\n",
            "[CV]   learning_rate=0.01, max_depth=10, n_estimators=100, score=0.757, total=   0.1s\n",
            "[CV]  learning_rate=0.01, max_depth=10, n_estimators=100 .............\n",
            "[CV]   learning_rate=0.01, max_depth=10, n_estimators=100, score=0.817, total=   0.1s\n",
            "[CV]  learning_rate=0.01, max_depth=10, n_estimators=200 .............\n",
            "[CV]   learning_rate=0.01, max_depth=10, n_estimators=200, score=0.724, total=   0.2s\n",
            "[CV]  learning_rate=0.01, max_depth=10, n_estimators=200 .............\n",
            "[CV]   learning_rate=0.01, max_depth=10, n_estimators=200, score=0.774, total=   0.2s\n",
            "[CV]  learning_rate=0.01, max_depth=10, n_estimators=200 .............\n",
            "[CV]   learning_rate=0.01, max_depth=10, n_estimators=200, score=0.757, total=   0.1s\n",
            "[CV]  learning_rate=0.01, max_depth=10, n_estimators=200 .............\n",
            "[CV]   learning_rate=0.01, max_depth=10, n_estimators=200, score=0.765, total=   0.2s\n",
            "[CV]  learning_rate=0.01, max_depth=10, n_estimators=200 .............\n",
            "[CV]   learning_rate=0.01, max_depth=10, n_estimators=200, score=0.809, total=   0.2s\n",
            "[CV]  learning_rate=0.01, max_depth=20, n_estimators=10 ..............\n",
            "[CV]   learning_rate=0.01, max_depth=20, n_estimators=10, score=0.724, total=   0.0s\n",
            "[CV]  learning_rate=0.01, max_depth=20, n_estimators=10 ..............\n",
            "[CV]   learning_rate=0.01, max_depth=20, n_estimators=10, score=0.757, total=   0.0s\n",
            "[CV]  learning_rate=0.01, max_depth=20, n_estimators=10 ..............\n",
            "[CV]   learning_rate=0.01, max_depth=20, n_estimators=10, score=0.774, total=   0.0s\n",
            "[CV]  learning_rate=0.01, max_depth=20, n_estimators=10 ..............\n",
            "[CV]   learning_rate=0.01, max_depth=20, n_estimators=10, score=0.783, total=   0.0s\n",
            "[CV]  learning_rate=0.01, max_depth=20, n_estimators=10 ..............\n",
            "[CV]   learning_rate=0.01, max_depth=20, n_estimators=10, score=0.791, total=   0.0s\n",
            "[CV]  learning_rate=0.01, max_depth=20, n_estimators=50 ..............\n",
            "[CV]   learning_rate=0.01, max_depth=20, n_estimators=50, score=0.698, total=   0.1s\n",
            "[CV]  learning_rate=0.01, max_depth=20, n_estimators=50 ..............\n",
            "[CV]   learning_rate=0.01, max_depth=20, n_estimators=50, score=0.791, total=   0.1s\n",
            "[CV]  learning_rate=0.01, max_depth=20, n_estimators=50 ..............\n",
            "[CV]   learning_rate=0.01, max_depth=20, n_estimators=50, score=0.774, total=   0.1s\n",
            "[CV]  learning_rate=0.01, max_depth=20, n_estimators=50 ..............\n",
            "[CV]   learning_rate=0.01, max_depth=20, n_estimators=50, score=0.791, total=   0.1s\n",
            "[CV]  learning_rate=0.01, max_depth=20, n_estimators=50 ..............\n",
            "[CV]   learning_rate=0.01, max_depth=20, n_estimators=50, score=0.800, total=   0.1s\n",
            "[CV]  learning_rate=0.01, max_depth=20, n_estimators=100 .............\n",
            "[CV]   learning_rate=0.01, max_depth=20, n_estimators=100, score=0.690, total=   0.1s\n",
            "[CV]  learning_rate=0.01, max_depth=20, n_estimators=100 .............\n",
            "[CV]   learning_rate=0.01, max_depth=20, n_estimators=100, score=0.791, total=   0.1s\n",
            "[CV]  learning_rate=0.01, max_depth=20, n_estimators=100 .............\n",
            "[CV]   learning_rate=0.01, max_depth=20, n_estimators=100, score=0.774, total=   0.1s\n",
            "[CV]  learning_rate=0.01, max_depth=20, n_estimators=100 .............\n",
            "[CV]   learning_rate=0.01, max_depth=20, n_estimators=100, score=0.765, total=   0.1s\n",
            "[CV]  learning_rate=0.01, max_depth=20, n_estimators=100 .............\n",
            "[CV]   learning_rate=0.01, max_depth=20, n_estimators=100, score=0.817, total=   0.1s\n",
            "[CV]  learning_rate=0.01, max_depth=20, n_estimators=200 .............\n",
            "[CV]   learning_rate=0.01, max_depth=20, n_estimators=200, score=0.716, total=   0.2s\n",
            "[CV]  learning_rate=0.01, max_depth=20, n_estimators=200 .............\n",
            "[CV]   learning_rate=0.01, max_depth=20, n_estimators=200, score=0.783, total=   0.2s\n",
            "[CV]  learning_rate=0.01, max_depth=20, n_estimators=200 .............\n",
            "[CV]   learning_rate=0.01, max_depth=20, n_estimators=200, score=0.730, total=   0.2s\n",
            "[CV]  learning_rate=0.01, max_depth=20, n_estimators=200 .............\n",
            "[CV]   learning_rate=0.01, max_depth=20, n_estimators=200, score=0.765, total=   0.2s\n",
            "[CV]  learning_rate=0.01, max_depth=20, n_estimators=200 .............\n",
            "[CV]   learning_rate=0.01, max_depth=20, n_estimators=200, score=0.791, total=   0.2s\n",
            "[CV]  learning_rate=0.001, max_depth=3, n_estimators=10 ..............\n",
            "[CV]   learning_rate=0.001, max_depth=3, n_estimators=10, score=0.741, total=   0.0s\n",
            "[CV]  learning_rate=0.001, max_depth=3, n_estimators=10 ..............\n",
            "[CV]   learning_rate=0.001, max_depth=3, n_estimators=10, score=0.757, total=   0.0s\n",
            "[CV]  learning_rate=0.001, max_depth=3, n_estimators=10 ..............\n",
            "[CV]   learning_rate=0.001, max_depth=3, n_estimators=10, score=0.730, total=   0.0s\n",
            "[CV]  learning_rate=0.001, max_depth=3, n_estimators=10 ..............\n",
            "[CV]   learning_rate=0.001, max_depth=3, n_estimators=10, score=0.765, total=   0.0s\n",
            "[CV]  learning_rate=0.001, max_depth=3, n_estimators=10 ..............\n",
            "[CV]   learning_rate=0.001, max_depth=3, n_estimators=10, score=0.757, total=   0.0s\n",
            "[CV]  learning_rate=0.001, max_depth=3, n_estimators=50 ..............\n",
            "[CV]   learning_rate=0.001, max_depth=3, n_estimators=50, score=0.750, total=   0.0s\n",
            "[CV]  learning_rate=0.001, max_depth=3, n_estimators=50 ..............\n",
            "[CV]   learning_rate=0.001, max_depth=3, n_estimators=50, score=0.783, total=   0.0s\n",
            "[CV]  learning_rate=0.001, max_depth=3, n_estimators=50 ..............\n",
            "[CV]   learning_rate=0.001, max_depth=3, n_estimators=50, score=0.739, total=   0.0s\n",
            "[CV]  learning_rate=0.001, max_depth=3, n_estimators=50 ..............\n",
            "[CV]   learning_rate=0.001, max_depth=3, n_estimators=50, score=0.757, total=   0.0s\n",
            "[CV]  learning_rate=0.001, max_depth=3, n_estimators=50 ..............\n",
            "[CV]   learning_rate=0.001, max_depth=3, n_estimators=50, score=0.817, total=   0.0s\n",
            "[CV]  learning_rate=0.001, max_depth=3, n_estimators=100 .............\n",
            "[CV]   learning_rate=0.001, max_depth=3, n_estimators=100, score=0.707, total=   0.0s\n",
            "[CV]  learning_rate=0.001, max_depth=3, n_estimators=100 .............\n",
            "[CV]   learning_rate=0.001, max_depth=3, n_estimators=100, score=0.809, total=   0.0s\n",
            "[CV]  learning_rate=0.001, max_depth=3, n_estimators=100 .............\n",
            "[CV]   learning_rate=0.001, max_depth=3, n_estimators=100, score=0.722, total=   0.0s\n",
            "[CV]  learning_rate=0.001, max_depth=3, n_estimators=100 .............\n",
            "[CV]   learning_rate=0.001, max_depth=3, n_estimators=100, score=0.783, total=   0.0s\n",
            "[CV]  learning_rate=0.001, max_depth=3, n_estimators=100 .............\n",
            "[CV]   learning_rate=0.001, max_depth=3, n_estimators=100, score=0.809, total=   0.0s\n",
            "[CV]  learning_rate=0.001, max_depth=3, n_estimators=200 .............\n",
            "[CV]   learning_rate=0.001, max_depth=3, n_estimators=200, score=0.716, total=   0.1s\n",
            "[CV]  learning_rate=0.001, max_depth=3, n_estimators=200 .............\n",
            "[CV]   learning_rate=0.001, max_depth=3, n_estimators=200, score=0.800, total=   0.1s\n",
            "[CV]  learning_rate=0.001, max_depth=3, n_estimators=200 .............\n",
            "[CV]   learning_rate=0.001, max_depth=3, n_estimators=200, score=0.713, total=   0.1s\n",
            "[CV]  learning_rate=0.001, max_depth=3, n_estimators=200 .............\n",
            "[CV]   learning_rate=0.001, max_depth=3, n_estimators=200, score=0.774, total=   0.1s\n",
            "[CV]  learning_rate=0.001, max_depth=3, n_estimators=200 .............\n",
            "[CV]   learning_rate=0.001, max_depth=3, n_estimators=200, score=0.791, total=   0.1s\n",
            "[CV]  learning_rate=0.001, max_depth=5, n_estimators=10 ..............\n",
            "[CV]   learning_rate=0.001, max_depth=5, n_estimators=10, score=0.759, total=   0.0s\n",
            "[CV]  learning_rate=0.001, max_depth=5, n_estimators=10 ..............\n",
            "[CV]   learning_rate=0.001, max_depth=5, n_estimators=10, score=0.765, total=   0.0s\n",
            "[CV]  learning_rate=0.001, max_depth=5, n_estimators=10 ..............\n",
            "[CV]   learning_rate=0.001, max_depth=5, n_estimators=10, score=0.748, total=   0.0s\n",
            "[CV]  learning_rate=0.001, max_depth=5, n_estimators=10 ..............\n",
            "[CV]   learning_rate=0.001, max_depth=5, n_estimators=10, score=0.774, total=   0.0s\n",
            "[CV]  learning_rate=0.001, max_depth=5, n_estimators=10 ..............\n",
            "[CV]   learning_rate=0.001, max_depth=5, n_estimators=10, score=0.791, total=   0.0s\n",
            "[CV]  learning_rate=0.001, max_depth=5, n_estimators=50 ..............\n",
            "[CV]   learning_rate=0.001, max_depth=5, n_estimators=50, score=0.733, total=   0.0s\n",
            "[CV]  learning_rate=0.001, max_depth=5, n_estimators=50 ..............\n",
            "[CV]   learning_rate=0.001, max_depth=5, n_estimators=50, score=0.783, total=   0.0s\n",
            "[CV]  learning_rate=0.001, max_depth=5, n_estimators=50 ..............\n",
            "[CV]   learning_rate=0.001, max_depth=5, n_estimators=50, score=0.791, total=   0.0s\n",
            "[CV]  learning_rate=0.001, max_depth=5, n_estimators=50 ..............\n",
            "[CV]   learning_rate=0.001, max_depth=5, n_estimators=50, score=0.774, total=   0.0s\n",
            "[CV]  learning_rate=0.001, max_depth=5, n_estimators=50 ..............\n",
            "[CV]   learning_rate=0.001, max_depth=5, n_estimators=50, score=0.817, total=   0.0s\n",
            "[CV]  learning_rate=0.001, max_depth=5, n_estimators=100 .............\n",
            "[CV]   learning_rate=0.001, max_depth=5, n_estimators=100, score=0.716, total=   0.1s\n",
            "[CV]  learning_rate=0.001, max_depth=5, n_estimators=100 .............\n",
            "[CV]   learning_rate=0.001, max_depth=5, n_estimators=100, score=0.783, total=   0.1s\n",
            "[CV]  learning_rate=0.001, max_depth=5, n_estimators=100 .............\n",
            "[CV]   learning_rate=0.001, max_depth=5, n_estimators=100, score=0.765, total=   0.1s\n",
            "[CV]  learning_rate=0.001, max_depth=5, n_estimators=100 .............\n",
            "[CV]   learning_rate=0.001, max_depth=5, n_estimators=100, score=0.783, total=   0.1s\n",
            "[CV]  learning_rate=0.001, max_depth=5, n_estimators=100 .............\n",
            "[CV]   learning_rate=0.001, max_depth=5, n_estimators=100, score=0.817, total=   0.1s\n",
            "[CV]  learning_rate=0.001, max_depth=5, n_estimators=200 .............\n",
            "[CV]   learning_rate=0.001, max_depth=5, n_estimators=200, score=0.716, total=   0.1s\n",
            "[CV]  learning_rate=0.001, max_depth=5, n_estimators=200 .............\n",
            "[CV]   learning_rate=0.001, max_depth=5, n_estimators=200, score=0.774, total=   0.1s\n",
            "[CV]  learning_rate=0.001, max_depth=5, n_estimators=200 .............\n",
            "[CV]   learning_rate=0.001, max_depth=5, n_estimators=200, score=0.757, total=   0.1s\n",
            "[CV]  learning_rate=0.001, max_depth=5, n_estimators=200 .............\n",
            "[CV]   learning_rate=0.001, max_depth=5, n_estimators=200, score=0.774, total=   0.1s\n",
            "[CV]  learning_rate=0.001, max_depth=5, n_estimators=200 .............\n",
            "[CV]   learning_rate=0.001, max_depth=5, n_estimators=200, score=0.817, total=   0.1s\n",
            "[CV]  learning_rate=0.001, max_depth=10, n_estimators=10 .............\n",
            "[CV]   learning_rate=0.001, max_depth=10, n_estimators=10, score=0.690, total=   0.0s\n",
            "[CV]  learning_rate=0.001, max_depth=10, n_estimators=10 .............\n",
            "[CV]   learning_rate=0.001, max_depth=10, n_estimators=10, score=0.757, total=   0.0s\n",
            "[CV]  learning_rate=0.001, max_depth=10, n_estimators=10 .............\n",
            "[CV]   learning_rate=0.001, max_depth=10, n_estimators=10, score=0.757, total=   0.0s\n",
            "[CV]  learning_rate=0.001, max_depth=10, n_estimators=10 .............\n",
            "[CV]   learning_rate=0.001, max_depth=10, n_estimators=10, score=0.783, total=   0.0s\n",
            "[CV]  learning_rate=0.001, max_depth=10, n_estimators=10 .............\n",
            "[CV]   learning_rate=0.001, max_depth=10, n_estimators=10, score=0.791, total=   0.0s\n",
            "[CV]  learning_rate=0.001, max_depth=10, n_estimators=50 .............\n",
            "[CV]   learning_rate=0.001, max_depth=10, n_estimators=50, score=0.716, total=   0.1s\n",
            "[CV]  learning_rate=0.001, max_depth=10, n_estimators=50 .............\n",
            "[CV]   learning_rate=0.001, max_depth=10, n_estimators=50, score=0.774, total=   0.1s\n",
            "[CV]  learning_rate=0.001, max_depth=10, n_estimators=50 .............\n",
            "[CV]   learning_rate=0.001, max_depth=10, n_estimators=50, score=0.765, total=   0.1s\n",
            "[CV]  learning_rate=0.001, max_depth=10, n_estimators=50 .............\n",
            "[CV]   learning_rate=0.001, max_depth=10, n_estimators=50, score=0.791, total=   0.1s\n",
            "[CV]  learning_rate=0.001, max_depth=10, n_estimators=50 .............\n",
            "[CV]   learning_rate=0.001, max_depth=10, n_estimators=50, score=0.826, total=   0.1s\n",
            "[CV]  learning_rate=0.001, max_depth=10, n_estimators=100 ............\n",
            "[CV]   learning_rate=0.001, max_depth=10, n_estimators=100, score=0.716, total=   0.1s\n",
            "[CV]  learning_rate=0.001, max_depth=10, n_estimators=100 ............\n",
            "[CV]   learning_rate=0.001, max_depth=10, n_estimators=100, score=0.765, total=   0.1s\n",
            "[CV]  learning_rate=0.001, max_depth=10, n_estimators=100 ............\n",
            "[CV]   learning_rate=0.001, max_depth=10, n_estimators=100, score=0.748, total=   0.1s\n",
            "[CV]  learning_rate=0.001, max_depth=10, n_estimators=100 ............\n",
            "[CV]   learning_rate=0.001, max_depth=10, n_estimators=100, score=0.757, total=   0.1s\n",
            "[CV]  learning_rate=0.001, max_depth=10, n_estimators=100 ............\n",
            "[CV]   learning_rate=0.001, max_depth=10, n_estimators=100, score=0.817, total=   0.1s\n",
            "[CV]  learning_rate=0.001, max_depth=10, n_estimators=200 ............\n",
            "[CV]   learning_rate=0.001, max_depth=10, n_estimators=200, score=0.724, total=   0.1s\n",
            "[CV]  learning_rate=0.001, max_depth=10, n_estimators=200 ............\n",
            "[CV]   learning_rate=0.001, max_depth=10, n_estimators=200, score=0.774, total=   0.2s\n",
            "[CV]  learning_rate=0.001, max_depth=10, n_estimators=200 ............\n",
            "[CV]   learning_rate=0.001, max_depth=10, n_estimators=200, score=0.757, total=   0.1s\n",
            "[CV]  learning_rate=0.001, max_depth=10, n_estimators=200 ............\n",
            "[CV]   learning_rate=0.001, max_depth=10, n_estimators=200, score=0.765, total=   0.2s\n",
            "[CV]  learning_rate=0.001, max_depth=10, n_estimators=200 ............\n",
            "[CV]   learning_rate=0.001, max_depth=10, n_estimators=200, score=0.809, total=   0.2s\n",
            "[CV]  learning_rate=0.001, max_depth=20, n_estimators=10 .............\n",
            "[CV]   learning_rate=0.001, max_depth=20, n_estimators=10, score=0.724, total=   0.0s\n",
            "[CV]  learning_rate=0.001, max_depth=20, n_estimators=10 .............\n",
            "[CV]   learning_rate=0.001, max_depth=20, n_estimators=10, score=0.757, total=   0.0s\n",
            "[CV]  learning_rate=0.001, max_depth=20, n_estimators=10 .............\n",
            "[CV]   learning_rate=0.001, max_depth=20, n_estimators=10, score=0.774, total=   0.0s\n",
            "[CV]  learning_rate=0.001, max_depth=20, n_estimators=10 .............\n",
            "[CV]   learning_rate=0.001, max_depth=20, n_estimators=10, score=0.783, total=   0.0s\n",
            "[CV]  learning_rate=0.001, max_depth=20, n_estimators=10 .............\n",
            "[CV]   learning_rate=0.001, max_depth=20, n_estimators=10, score=0.791, total=   0.0s\n",
            "[CV]  learning_rate=0.001, max_depth=20, n_estimators=50 .............\n",
            "[CV]   learning_rate=0.001, max_depth=20, n_estimators=50, score=0.698, total=   0.1s\n",
            "[CV]  learning_rate=0.001, max_depth=20, n_estimators=50 .............\n",
            "[CV]   learning_rate=0.001, max_depth=20, n_estimators=50, score=0.791, total=   0.1s\n",
            "[CV]  learning_rate=0.001, max_depth=20, n_estimators=50 .............\n",
            "[CV]   learning_rate=0.001, max_depth=20, n_estimators=50, score=0.774, total=   0.1s\n",
            "[CV]  learning_rate=0.001, max_depth=20, n_estimators=50 .............\n",
            "[CV]   learning_rate=0.001, max_depth=20, n_estimators=50, score=0.791, total=   0.1s\n",
            "[CV]  learning_rate=0.001, max_depth=20, n_estimators=50 .............\n",
            "[CV]   learning_rate=0.001, max_depth=20, n_estimators=50, score=0.800, total=   0.1s\n",
            "[CV]  learning_rate=0.001, max_depth=20, n_estimators=100 ............\n",
            "[CV]   learning_rate=0.001, max_depth=20, n_estimators=100, score=0.690, total=   0.1s\n",
            "[CV]  learning_rate=0.001, max_depth=20, n_estimators=100 ............\n",
            "[CV]   learning_rate=0.001, max_depth=20, n_estimators=100, score=0.791, total=   0.1s\n",
            "[CV]  learning_rate=0.001, max_depth=20, n_estimators=100 ............\n",
            "[CV]   learning_rate=0.001, max_depth=20, n_estimators=100, score=0.774, total=   0.1s\n",
            "[CV]  learning_rate=0.001, max_depth=20, n_estimators=100 ............\n",
            "[CV]   learning_rate=0.001, max_depth=20, n_estimators=100, score=0.765, total=   0.1s\n",
            "[CV]  learning_rate=0.001, max_depth=20, n_estimators=100 ............\n",
            "[CV]   learning_rate=0.001, max_depth=20, n_estimators=100, score=0.817, total=   0.1s\n",
            "[CV]  learning_rate=0.001, max_depth=20, n_estimators=200 ............\n",
            "[CV]   learning_rate=0.001, max_depth=20, n_estimators=200, score=0.716, total=   0.2s\n",
            "[CV]  learning_rate=0.001, max_depth=20, n_estimators=200 ............\n",
            "[CV]   learning_rate=0.001, max_depth=20, n_estimators=200, score=0.783, total=   0.2s\n",
            "[CV]  learning_rate=0.001, max_depth=20, n_estimators=200 ............\n",
            "[CV]   learning_rate=0.001, max_depth=20, n_estimators=200, score=0.730, total=   0.2s\n",
            "[CV]  learning_rate=0.001, max_depth=20, n_estimators=200 ............\n",
            "[CV]   learning_rate=0.001, max_depth=20, n_estimators=200, score=0.765, total=   0.2s\n",
            "[CV]  learning_rate=0.001, max_depth=20, n_estimators=200 ............\n",
            "[CV]   learning_rate=0.001, max_depth=20, n_estimators=200, score=0.791, total=   0.2s\n"
          ],
          "name": "stdout"
        },
        {
          "output_type": "stream",
          "text": [
            "[Parallel(n_jobs=1)]: Done 400 out of 400 | elapsed:   24.9s finished\n"
          ],
          "name": "stderr"
        },
        {
          "output_type": "execute_result",
          "data": {
            "text/plain": [
              "GridSearchCV(cv=None, error_score=nan,\n",
              "             estimator=XGBClassifier(base_score=0.5, booster='gbtree',\n",
              "                                     colsample_bylevel=1, colsample_bynode=1,\n",
              "                                     colsample_bytree=1, gamma=0,\n",
              "                                     learning_rate=0.1, max_delta_step=0,\n",
              "                                     max_depth=3, min_child_weight=1,\n",
              "                                     missing=None, n_estimators=100, n_jobs=1,\n",
              "                                     nthread=None, objective='binary:logistic',\n",
              "                                     random_state=0, reg_alpha=0, reg_lambda=1,\n",
              "                                     scale_pos_weight=1, seed=None, silent=None,\n",
              "                                     subsample=1, verbosity=1),\n",
              "             iid='deprecated', n_jobs=None,\n",
              "             param_grid={' learning_rate': [1, 0.5, 0.1, 0.01, 0.001],\n",
              "                         'max_depth': [3, 5, 10, 20],\n",
              "                         'n_estimators': [10, 50, 100, 200]},\n",
              "             pre_dispatch='2*n_jobs', refit=True, return_train_score=False,\n",
              "             scoring=None, verbose=3)"
            ]
          },
          "metadata": {
            "tags": []
          },
          "execution_count": 44
        }
      ]
    },
    {
      "cell_type": "code",
      "metadata": {
        "id": "H5xSlNdmj1h1",
        "colab_type": "code",
        "colab": {
          "base_uri": "https://localhost:8080/",
          "height": 34
        },
        "outputId": "bf5b8b97-06ea-4abc-d696-d2f6f251fd13"
      },
      "source": [
        "grid.best_params_"
      ],
      "execution_count": 45,
      "outputs": [
        {
          "output_type": "execute_result",
          "data": {
            "text/plain": [
              "{' learning_rate': 1, 'max_depth': 5, 'n_estimators': 50}"
            ]
          },
          "metadata": {
            "tags": []
          },
          "execution_count": 45
        }
      ]
    },
    {
      "cell_type": "code",
      "metadata": {
        "id": "bDJg1V0AkX4h",
        "colab_type": "code",
        "colab": {
          "base_uri": "https://localhost:8080/",
          "height": 136
        },
        "outputId": "4eab104c-e4d1-498f-c039-bb1231fe1b04"
      },
      "source": [
        "new_model=XGBClassifier(learning_rate= 1, max_depth= 5, n_estimators= 50)\n",
        "new_model.fit(x_train, y_train)"
      ],
      "execution_count": 48,
      "outputs": [
        {
          "output_type": "execute_result",
          "data": {
            "text/plain": [
              "XGBClassifier(base_score=0.5, booster='gbtree', colsample_bylevel=1,\n",
              "              colsample_bynode=1, colsample_bytree=1, gamma=0, learning_rate=1,\n",
              "              max_delta_step=0, max_depth=5, min_child_weight=1, missing=None,\n",
              "              n_estimators=50, n_jobs=1, nthread=None,\n",
              "              objective='binary:logistic', random_state=0, reg_alpha=0,\n",
              "              reg_lambda=1, scale_pos_weight=1, seed=None, silent=None,\n",
              "              subsample=1, verbosity=1)"
            ]
          },
          "metadata": {
            "tags": []
          },
          "execution_count": 48
        }
      ]
    },
    {
      "cell_type": "code",
      "metadata": {
        "id": "4T6y7LFMku9v",
        "colab_type": "code",
        "colab": {
          "base_uri": "https://localhost:8080/",
          "height": 34
        },
        "outputId": "123821e8-e8ea-4ee0-fb76-0f71224a3a4b"
      },
      "source": [
        "y_pred=new_model.predict(x_test)\n",
        "y_pred=[round(value) for value in y_pred ]\n",
        "score=accuracy_score(y_test,y_pred)\n",
        "score"
      ],
      "execution_count": 50,
      "outputs": [
        {
          "output_type": "execute_result",
          "data": {
            "text/plain": [
              "0.6875"
            ]
          },
          "metadata": {
            "tags": []
          },
          "execution_count": 50
        }
      ]
    },
    {
      "cell_type": "code",
      "metadata": {
        "id": "HK8pyUkmlR4Y",
        "colab_type": "code",
        "colab": {}
      },
      "source": [
        "d=scaler.transform([[6,148,72,35,80,33.6,0.627,50]])"
      ],
      "execution_count": 0,
      "outputs": []
    },
    {
      "cell_type": "code",
      "metadata": {
        "id": "m8Bb_6N9mFrp",
        "colab_type": "code",
        "colab": {
          "base_uri": "https://localhost:8080/",
          "height": 34
        },
        "outputId": "bc4ee540-6c53-4173-9f25-bed0725cb3ec"
      },
      "source": [
        "y=new_model.predict(d)\n",
        "print(y)"
      ],
      "execution_count": 57,
      "outputs": [
        {
          "output_type": "stream",
          "text": [
            "[1]\n"
          ],
          "name": "stdout"
        }
      ]
    }
  ]
}